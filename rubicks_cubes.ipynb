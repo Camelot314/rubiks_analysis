{
 "cells": [
  {
   "cell_type": "markdown",
   "id": "71fd7995-6132-4d0e-8edd-d02b3e03653b",
   "metadata": {},
   "source": [
    "# Rubik's Cubes: An Analysis of Scrambles\n",
    "Jaraad Kamal"
   ]
  },
  {
   "cell_type": "markdown",
   "id": "6e0b6ba6-8f85-4950-8fc9-eddf6e7fe8c3",
   "metadata": {
    "tags": []
   },
   "source": [
    "## Background and Definitions\n",
    "The Rubik's Cube was a puzzle game created by Ernő Rubik in 1974. Throughout the years it has gained immense popularity as more and more people learn to solve it and compete. \n",
    "I have been solving Rubik's Cubes for over half my life. I am by no means a competition level solver but I have always been interested in the highest levels of speed cubing.\n",
    "> **Speed Cubing**\n",
    "> <br>\n",
    "> Competitively solving Rubik's Cubes as fast as possible.\n",
    "\n",
    "In this tutorial we will discuss the scrambles of a **3x3 Rubik's Cube**. \n",
    "### Goal\n",
    "For this tutorial we will be finding out if specific competitions that are harder for 3x3x3 rubiks cubes (i.e. produce higher average times than other).\n"
   ]
  },
  {
   "cell_type": "markdown",
   "id": "e83f3531-c248-4fa7-981e-0bb2d4c4d898",
   "metadata": {
    "tags": []
   },
   "source": [
    "## Getting the Data\n",
    "For this project I will be using the database created by the **World Cube Association** (WCA), they host the largest and most updated database for competitions throughout the world. I will be using the data up to April 14<sup>th</sup>, 2022.\n",
    "> **Links**\n",
    "><br>\n",
    "> WCA Homepage: https://www.worldcubeassociation.org/\n",
    "><br>\n",
    "> WCA Database Download: https://www.worldcubeassociation.org/results/misc/export.html\n",
    "\n",
    "For this tutorial download the **tsv zip file** and extract the contents into a subfolder of your choice."
   ]
  },
  {
   "cell_type": "markdown",
   "id": "6743f414-2196-495c-b671-705ed324465a",
   "metadata": {
    "jp-MarkdownHeadingCollapsed": true,
    "tags": []
   },
   "source": [
    "## Getting to Know the Data\n",
    "The files created by the WCA is *big* Trying to just get a text editor to open them up is a bad idea. Before blindly coding it is important that you get comfortable with the way it is formatted. The database comes with a **README** file that gives an overview. \n",
    "<br><br>\n",
    "Briefly, the tsv files are a collection of tables each with their own information. According to the **README** the database itself consists of the following tables:\n",
    "\n",
    "| Table                                   | Contents                                           |\n",
    "| --------------------------------------- | -------------------------------------------------- |\n",
    "| Persons                                 | WCA competitors                                    |\n",
    "| Competitions                            | WCA competitions                                   |\n",
    "| Events                                  | WCA events (3x3x3 Cube, Megaminx, etc)             |\n",
    "| Results                                 | WCA results per competition+event+round+person     |\n",
    "| RanksSingle                             | Best single result per competitor+event and ranks  |\n",
    "| RanksAverage                            | Best average result per competitor+event and ranks |\n",
    "| RoundTypes                              | The round types (first, final, etc)                |\n",
    "| Formats                                 | The round formats (best of 3, average of 5, etc)   |\n",
    "| Countries                               | Countries                                          |\n",
    "| Continents                              | Continents                                         |\n",
    "| Scrambles                               | Scrambles                                          |\n",
    "| championships                           | Championship competitions                          |\n",
    "| eligible_country_iso2s_for_championship | See explanation below                              |\n",
    "\n",
    "\n",
    ">**Note**\n",
    "><br>\n",
    ">For this tutorial we are examining if there are specific scrambles that are harder than others. \n",
    ">To do this we will only look at the **Scrambles** and the **Results** tables. \n",
    ">The remaining files will not be any use for us."
   ]
  },
  {
   "cell_type": "markdown",
   "id": "0a18d7eb-4fa6-4b21-80a7-39884b65aa81",
   "metadata": {},
   "source": [
    "## The Code\n",
    "For this tutorial I will be working in **Python 3**.\n",
    "<br>\n",
    "First lets import some libraries that will be usefull later on."
   ]
  },
  {
   "cell_type": "code",
   "execution_count": 1,
   "id": "57592973-b02e-4b4b-946f-530851ae34fd",
   "metadata": {},
   "outputs": [],
   "source": [
    "import pandas as pd\n",
    "import matplotlib.pyplot as plt\n",
    "import numpy as np"
   ]
  },
  {
   "cell_type": "markdown",
   "id": "3b555343-49a5-49dd-baca-af84228ff612",
   "metadata": {},
   "source": [
    "### Loading the Data\n",
    "The data we need are stored in two files called **WCA_export_Results.tsv** and **WCA_export_Competitions.tsv**.\n",
    "To work with this data we will load their information into two variables called `results_frame` and `scrambles_frame`."
   ]
  },
  {
   "cell_type": "code",
   "execution_count": 2,
   "id": "e7df4a3e-b26e-4198-9d47-fbc269317881",
   "metadata": {},
   "outputs": [],
   "source": [
    "results_frame = pd.read_csv(\"extracted_tsv/WCA_export_Results.tsv\", sep = '\\t')\n",
    "competitions_frame = pd.read_csv(\"extracted_tsv/WCA_export_Competitions.tsv\", sep = '\\t')"
   ]
  },
  {
   "cell_type": "markdown",
   "id": "1ccac13c-4f1d-4204-bbd0-7b68e40f33ec",
   "metadata": {},
   "source": [
    "Now we can take a small look at the data."
   ]
  },
  {
   "cell_type": "code",
   "execution_count": 3,
   "id": "be26e4fd-4999-4a2e-9e0f-005d9d70004e",
   "metadata": {},
   "outputs": [
    {
     "data": {
      "text/html": [
       "<div>\n",
       "<style scoped>\n",
       "    .dataframe tbody tr th:only-of-type {\n",
       "        vertical-align: middle;\n",
       "    }\n",
       "\n",
       "    .dataframe tbody tr th {\n",
       "        vertical-align: top;\n",
       "    }\n",
       "\n",
       "    .dataframe thead th {\n",
       "        text-align: right;\n",
       "    }\n",
       "</style>\n",
       "<table border=\"1\" class=\"dataframe\">\n",
       "  <thead>\n",
       "    <tr style=\"text-align: right;\">\n",
       "      <th></th>\n",
       "      <th>competitionId</th>\n",
       "      <th>eventId</th>\n",
       "      <th>roundTypeId</th>\n",
       "      <th>pos</th>\n",
       "      <th>best</th>\n",
       "      <th>average</th>\n",
       "      <th>personName</th>\n",
       "      <th>personId</th>\n",
       "      <th>personCountryId</th>\n",
       "      <th>formatId</th>\n",
       "      <th>value1</th>\n",
       "      <th>value2</th>\n",
       "      <th>value3</th>\n",
       "      <th>value4</th>\n",
       "      <th>value5</th>\n",
       "      <th>regionalSingleRecord</th>\n",
       "      <th>regionalAverageRecord</th>\n",
       "    </tr>\n",
       "  </thead>\n",
       "  <tbody>\n",
       "    <tr>\n",
       "      <th>0</th>\n",
       "      <td>LyonOpen2007</td>\n",
       "      <td>333</td>\n",
       "      <td>1</td>\n",
       "      <td>15</td>\n",
       "      <td>1968</td>\n",
       "      <td>2128</td>\n",
       "      <td>Etienne Amany</td>\n",
       "      <td>2007AMAN01</td>\n",
       "      <td>Cote d_Ivoire</td>\n",
       "      <td>a</td>\n",
       "      <td>1968</td>\n",
       "      <td>2203</td>\n",
       "      <td>2138</td>\n",
       "      <td>2139</td>\n",
       "      <td>2108</td>\n",
       "      <td>AfR</td>\n",
       "      <td>AfR</td>\n",
       "    </tr>\n",
       "    <tr>\n",
       "      <th>1</th>\n",
       "      <td>LyonOpen2007</td>\n",
       "      <td>333</td>\n",
       "      <td>1</td>\n",
       "      <td>16</td>\n",
       "      <td>1731</td>\n",
       "      <td>2140</td>\n",
       "      <td>Thomas Rouault</td>\n",
       "      <td>2004ROUA01</td>\n",
       "      <td>France</td>\n",
       "      <td>a</td>\n",
       "      <td>2222</td>\n",
       "      <td>2153</td>\n",
       "      <td>1731</td>\n",
       "      <td>2334</td>\n",
       "      <td>2046</td>\n",
       "      <td>NaN</td>\n",
       "      <td>NaN</td>\n",
       "    </tr>\n",
       "    <tr>\n",
       "      <th>2</th>\n",
       "      <td>LyonOpen2007</td>\n",
       "      <td>333</td>\n",
       "      <td>1</td>\n",
       "      <td>17</td>\n",
       "      <td>2305</td>\n",
       "      <td>2637</td>\n",
       "      <td>Antoine Simon-Chautemps</td>\n",
       "      <td>2005SIMO01</td>\n",
       "      <td>France</td>\n",
       "      <td>a</td>\n",
       "      <td>3430</td>\n",
       "      <td>2581</td>\n",
       "      <td>2540</td>\n",
       "      <td>2789</td>\n",
       "      <td>2305</td>\n",
       "      <td>NaN</td>\n",
       "      <td>NaN</td>\n",
       "    </tr>\n",
       "    <tr>\n",
       "      <th>3</th>\n",
       "      <td>LyonOpen2007</td>\n",
       "      <td>333</td>\n",
       "      <td>1</td>\n",
       "      <td>18</td>\n",
       "      <td>2452</td>\n",
       "      <td>2637</td>\n",
       "      <td>Irène Mallordy</td>\n",
       "      <td>2007MALL01</td>\n",
       "      <td>France</td>\n",
       "      <td>a</td>\n",
       "      <td>2715</td>\n",
       "      <td>2452</td>\n",
       "      <td>2868</td>\n",
       "      <td>2632</td>\n",
       "      <td>2564</td>\n",
       "      <td>NaN</td>\n",
       "      <td>NaN</td>\n",
       "    </tr>\n",
       "    <tr>\n",
       "      <th>4</th>\n",
       "      <td>LyonOpen2007</td>\n",
       "      <td>333</td>\n",
       "      <td>1</td>\n",
       "      <td>19</td>\n",
       "      <td>2677</td>\n",
       "      <td>2906</td>\n",
       "      <td>Marlène Desmaisons</td>\n",
       "      <td>2007DESM01</td>\n",
       "      <td>France</td>\n",
       "      <td>a</td>\n",
       "      <td>2921</td>\n",
       "      <td>3184</td>\n",
       "      <td>2891</td>\n",
       "      <td>2677</td>\n",
       "      <td>2907</td>\n",
       "      <td>NaN</td>\n",
       "      <td>NaN</td>\n",
       "    </tr>\n",
       "  </tbody>\n",
       "</table>\n",
       "</div>"
      ],
      "text/plain": [
       "  competitionId eventId roundTypeId  pos  best  average  \\\n",
       "0  LyonOpen2007     333           1   15  1968     2128   \n",
       "1  LyonOpen2007     333           1   16  1731     2140   \n",
       "2  LyonOpen2007     333           1   17  2305     2637   \n",
       "3  LyonOpen2007     333           1   18  2452     2637   \n",
       "4  LyonOpen2007     333           1   19  2677     2906   \n",
       "\n",
       "                personName    personId personCountryId formatId  value1  \\\n",
       "0            Etienne Amany  2007AMAN01   Cote d_Ivoire        a    1968   \n",
       "1           Thomas Rouault  2004ROUA01          France        a    2222   \n",
       "2  Antoine Simon-Chautemps  2005SIMO01          France        a    3430   \n",
       "3           Irène Mallordy  2007MALL01          France        a    2715   \n",
       "4       Marlène Desmaisons  2007DESM01          France        a    2921   \n",
       "\n",
       "   value2  value3  value4  value5 regionalSingleRecord regionalAverageRecord  \n",
       "0    2203    2138    2139    2108                  AfR                   AfR  \n",
       "1    2153    1731    2334    2046                  NaN                   NaN  \n",
       "2    2581    2540    2789    2305                  NaN                   NaN  \n",
       "3    2452    2868    2632    2564                  NaN                   NaN  \n",
       "4    3184    2891    2677    2907                  NaN                   NaN  "
      ]
     },
     "metadata": {},
     "output_type": "display_data"
    },
    {
     "data": {
      "text/html": [
       "<div>\n",
       "<style scoped>\n",
       "    .dataframe tbody tr th:only-of-type {\n",
       "        vertical-align: middle;\n",
       "    }\n",
       "\n",
       "    .dataframe tbody tr th {\n",
       "        vertical-align: top;\n",
       "    }\n",
       "\n",
       "    .dataframe thead th {\n",
       "        text-align: right;\n",
       "    }\n",
       "</style>\n",
       "<table border=\"1\" class=\"dataframe\">\n",
       "  <thead>\n",
       "    <tr style=\"text-align: right;\">\n",
       "      <th></th>\n",
       "      <th>id</th>\n",
       "      <th>name</th>\n",
       "      <th>cityName</th>\n",
       "      <th>countryId</th>\n",
       "      <th>information</th>\n",
       "      <th>year</th>\n",
       "      <th>month</th>\n",
       "      <th>day</th>\n",
       "      <th>endMonth</th>\n",
       "      <th>endDay</th>\n",
       "      <th>...</th>\n",
       "      <th>eventSpecs</th>\n",
       "      <th>wcaDelegate</th>\n",
       "      <th>organiser</th>\n",
       "      <th>venue</th>\n",
       "      <th>venueAddress</th>\n",
       "      <th>venueDetails</th>\n",
       "      <th>external_website</th>\n",
       "      <th>cellName</th>\n",
       "      <th>latitude</th>\n",
       "      <th>longitude</th>\n",
       "    </tr>\n",
       "  </thead>\n",
       "  <tbody>\n",
       "    <tr>\n",
       "      <th>0</th>\n",
       "      <td>100Merito2018</td>\n",
       "      <td>100º Mérito 2018</td>\n",
       "      <td>Santarém, Pará</td>\n",
       "      <td>Brazil</td>\n",
       "      <td>Qualquer pessoa que resolva o Cubo Mágico em m...</td>\n",
       "      <td>2018</td>\n",
       "      <td>4</td>\n",
       "      <td>14</td>\n",
       "      <td>4</td>\n",
       "      <td>14</td>\n",
       "      <td>...</td>\n",
       "      <td>222 333 333bf 333ft 444 pyram skewb</td>\n",
       "      <td>[{Rafael de Andrade Cinoto}{mailto:rcinoto@wor...</td>\n",
       "      <td>[{Davi de Andrade Iácono}{mailto:cuber.paragom...</td>\n",
       "      <td>[Mérito Pré-Vestibulares](https://www.facebook...</td>\n",
       "      <td>Avenida Mendonça Furtado, 1120 - CEP: 68040050</td>\n",
       "      <td>Próximo ao Colégio São Francisco</td>\n",
       "      <td>NaN</td>\n",
       "      <td>100º Mérito 2018</td>\n",
       "      <td>-2422498</td>\n",
       "      <td>-54712597</td>\n",
       "    </tr>\n",
       "    <tr>\n",
       "      <th>1</th>\n",
       "      <td>10doRioGrandedoNorte2018</td>\n",
       "      <td>10º do Rio Grande do Norte 2018</td>\n",
       "      <td>João Câmara, Rio Grande do Norte</td>\n",
       "      <td>Brazil</td>\n",
       "      <td>O valor das inscrições será de R$ 6,00 a serem...</td>\n",
       "      <td>2018</td>\n",
       "      <td>12</td>\n",
       "      <td>15</td>\n",
       "      <td>12</td>\n",
       "      <td>16</td>\n",
       "      <td>...</td>\n",
       "      <td>222 333 333fm 333oh 444 555 clock minx pyram s...</td>\n",
       "      <td>[{Pablo Eduardo Nikolais Teixeira Bonifácio da...</td>\n",
       "      <td>[{Associacao Norte Rio Grandense Cubo Mágico}{...</td>\n",
       "      <td>Escola Estadual em Tempo Integral Francisco de...</td>\n",
       "      <td>R. João Teixeira, João Câmara - RN, 59550-000</td>\n",
       "      <td>A competição acontecerá no Pátio da escola</td>\n",
       "      <td>NaN</td>\n",
       "      <td>10º do Rio Grande do Norte 2018</td>\n",
       "      <td>-5536382</td>\n",
       "      <td>-35816234</td>\n",
       "    </tr>\n",
       "    <tr>\n",
       "      <th>2</th>\n",
       "      <td>12SidesofSilesia2018</td>\n",
       "      <td>12 Sides of Silesia 2018</td>\n",
       "      <td>Dąbrowa Górnicza</td>\n",
       "      <td>Poland</td>\n",
       "      <td>Limit of competitors: 50. Entry fee: 20 PLN</td>\n",
       "      <td>2018</td>\n",
       "      <td>3</td>\n",
       "      <td>3</td>\n",
       "      <td>3</td>\n",
       "      <td>3</td>\n",
       "      <td>...</td>\n",
       "      <td>333bf 666 777 minx sq1</td>\n",
       "      <td>[{Piotr Trząski}{mailto:ptrzaski@worldcubeasso...</td>\n",
       "      <td>[{Bartłomiej Owczarek}{mailto:owczarcuber@gmai...</td>\n",
       "      <td>[Centrum Aktywności Obywatelskiej] (http://ngo...</td>\n",
       "      <td>Henryka Sienkiewicza 6A, 41-300 Dąbrowa Górnicza</td>\n",
       "      <td>NaN</td>\n",
       "      <td>NaN</td>\n",
       "      <td>12 Sides of Silesia 2018</td>\n",
       "      <td>50324482</td>\n",
       "      <td>19179497</td>\n",
       "    </tr>\n",
       "    <tr>\n",
       "      <th>3</th>\n",
       "      <td>150thCubeMeetinginBrest2017</td>\n",
       "      <td>150th Cube Meeting in Brest 2017</td>\n",
       "      <td>Brest</td>\n",
       "      <td>Belarus</td>\n",
       "      <td>Registration will be closed on July, 16 or whe...</td>\n",
       "      <td>2017</td>\n",
       "      <td>7</td>\n",
       "      <td>22</td>\n",
       "      <td>7</td>\n",
       "      <td>23</td>\n",
       "      <td>...</td>\n",
       "      <td>222 333 333bf 333fm 333ft 333mbf 333oh 444 444...</td>\n",
       "      <td>[{Ilya Tsiareshka}{mailto:itsiareshka@worldcub...</td>\n",
       "      <td>[{Ilya Tsiareshka}{mailto:itsiareshka@worldcub...</td>\n",
       "      <td>[Brest Regional Centre of Olympic Reserve for ...</td>\n",
       "      <td>street Oktyabrskoy revolyutsii, 2</td>\n",
       "      <td>On the second floor in conference hall</td>\n",
       "      <td>http://vk.com/cmb150</td>\n",
       "      <td>150 Cube Meeting in Brest 2017</td>\n",
       "      <td>52082331</td>\n",
       "      <td>23741572</td>\n",
       "    </tr>\n",
       "    <tr>\n",
       "      <th>4</th>\n",
       "      <td>1AVG2013</td>\n",
       "      <td>1 AVG competition 2013</td>\n",
       "      <td>Delft</td>\n",
       "      <td>Netherlands</td>\n",
       "      <td>This, very serious (not an April Fools joke), ...</td>\n",
       "      <td>2013</td>\n",
       "      <td>4</td>\n",
       "      <td>1</td>\n",
       "      <td>4</td>\n",
       "      <td>1</td>\n",
       "      <td>...</td>\n",
       "      <td>222 333 333bf 333oh 444 555 666 777 clock minx...</td>\n",
       "      <td>[{Ron van Bruchem}{mailto:rbruchem@worldcubeas...</td>\n",
       "      <td>[{Arnaud van Galen}{mailto:arnaudvangalen@hotm...</td>\n",
       "      <td>[Scouting Paulus](http://scoutingpaulus.nl)</td>\n",
       "      <td>Baden Powellpad 2, Delft</td>\n",
       "      <td>NaN</td>\n",
       "      <td>http://waschbaerli.com/wca/1avg</td>\n",
       "      <td>1 AVG 2013</td>\n",
       "      <td>52010740</td>\n",
       "      <td>4356539</td>\n",
       "    </tr>\n",
       "  </tbody>\n",
       "</table>\n",
       "<p>5 rows × 21 columns</p>\n",
       "</div>"
      ],
      "text/plain": [
       "                            id                              name  \\\n",
       "0                100Merito2018                  100º Mérito 2018   \n",
       "1     10doRioGrandedoNorte2018   10º do Rio Grande do Norte 2018   \n",
       "2         12SidesofSilesia2018          12 Sides of Silesia 2018   \n",
       "3  150thCubeMeetinginBrest2017  150th Cube Meeting in Brest 2017   \n",
       "4                     1AVG2013            1 AVG competition 2013   \n",
       "\n",
       "                           cityName    countryId  \\\n",
       "0                    Santarém, Pará       Brazil   \n",
       "1  João Câmara, Rio Grande do Norte       Brazil   \n",
       "2                  Dąbrowa Górnicza       Poland   \n",
       "3                             Brest      Belarus   \n",
       "4                             Delft  Netherlands   \n",
       "\n",
       "                                         information  year  month  day  \\\n",
       "0  Qualquer pessoa que resolva o Cubo Mágico em m...  2018      4   14   \n",
       "1  O valor das inscrições será de R$ 6,00 a serem...  2018     12   15   \n",
       "2        Limit of competitors: 50. Entry fee: 20 PLN  2018      3    3   \n",
       "3  Registration will be closed on July, 16 or whe...  2017      7   22   \n",
       "4  This, very serious (not an April Fools joke), ...  2013      4    1   \n",
       "\n",
       "   endMonth  endDay  ...                                         eventSpecs  \\\n",
       "0         4      14  ...                222 333 333bf 333ft 444 pyram skewb   \n",
       "1        12      16  ...  222 333 333fm 333oh 444 555 clock minx pyram s...   \n",
       "2         3       3  ...                             333bf 666 777 minx sq1   \n",
       "3         7      23  ...  222 333 333bf 333fm 333ft 333mbf 333oh 444 444...   \n",
       "4         4       1  ...  222 333 333bf 333oh 444 555 666 777 clock minx...   \n",
       "\n",
       "                                         wcaDelegate  \\\n",
       "0  [{Rafael de Andrade Cinoto}{mailto:rcinoto@wor...   \n",
       "1  [{Pablo Eduardo Nikolais Teixeira Bonifácio da...   \n",
       "2  [{Piotr Trząski}{mailto:ptrzaski@worldcubeasso...   \n",
       "3  [{Ilya Tsiareshka}{mailto:itsiareshka@worldcub...   \n",
       "4  [{Ron van Bruchem}{mailto:rbruchem@worldcubeas...   \n",
       "\n",
       "                                           organiser  \\\n",
       "0  [{Davi de Andrade Iácono}{mailto:cuber.paragom...   \n",
       "1  [{Associacao Norte Rio Grandense Cubo Mágico}{...   \n",
       "2  [{Bartłomiej Owczarek}{mailto:owczarcuber@gmai...   \n",
       "3  [{Ilya Tsiareshka}{mailto:itsiareshka@worldcub...   \n",
       "4  [{Arnaud van Galen}{mailto:arnaudvangalen@hotm...   \n",
       "\n",
       "                                               venue  \\\n",
       "0  [Mérito Pré-Vestibulares](https://www.facebook...   \n",
       "1  Escola Estadual em Tempo Integral Francisco de...   \n",
       "2  [Centrum Aktywności Obywatelskiej] (http://ngo...   \n",
       "3  [Brest Regional Centre of Olympic Reserve for ...   \n",
       "4        [Scouting Paulus](http://scoutingpaulus.nl)   \n",
       "\n",
       "                                       venueAddress  \\\n",
       "0    Avenida Mendonça Furtado, 1120 - CEP: 68040050   \n",
       "1     R. João Teixeira, João Câmara - RN, 59550-000   \n",
       "2  Henryka Sienkiewicza 6A, 41-300 Dąbrowa Górnicza   \n",
       "3                 street Oktyabrskoy revolyutsii, 2   \n",
       "4                          Baden Powellpad 2, Delft   \n",
       "\n",
       "                                 venueDetails  \\\n",
       "0            Próximo ao Colégio São Francisco   \n",
       "1  A competição acontecerá no Pátio da escola   \n",
       "2                                         NaN   \n",
       "3      On the second floor in conference hall   \n",
       "4                                         NaN   \n",
       "\n",
       "                  external_website                         cellName  latitude  \\\n",
       "0                              NaN                 100º Mérito 2018  -2422498   \n",
       "1                              NaN  10º do Rio Grande do Norte 2018  -5536382   \n",
       "2                              NaN         12 Sides of Silesia 2018  50324482   \n",
       "3             http://vk.com/cmb150   150 Cube Meeting in Brest 2017  52082331   \n",
       "4  http://waschbaerli.com/wca/1avg                       1 AVG 2013  52010740   \n",
       "\n",
       "   longitude  \n",
       "0  -54712597  \n",
       "1  -35816234  \n",
       "2   19179497  \n",
       "3   23741572  \n",
       "4    4356539  \n",
       "\n",
       "[5 rows x 21 columns]"
      ]
     },
     "metadata": {},
     "output_type": "display_data"
    },
    {
     "name": "stdout",
     "output_type": "stream",
     "text": [
      "size of results is:  2789385\n",
      "size of competitons is:  7836\n"
     ]
    }
   ],
   "source": [
    "display(results_frame.head())\n",
    "display(competitions_frame.head())\n",
    "print(\"size of results is: \", len(results_frame))\n",
    "print(\"size of competitons is: \", len(competitions_frame))"
   ]
  },
  {
   "cell_type": "markdown",
   "id": "2e83df1c-7bb0-4db6-8ac9-84a5753fa382",
   "metadata": {},
   "source": [
    "#### Observations\n",
    "As you can see there is **A LOT** of data, and a lot of the data is information that we do not need and must clean up."
   ]
  },
  {
   "cell_type": "markdown",
   "id": "b6c35661-d721-47b4-8c04-fa718085db7d",
   "metadata": {},
   "source": [
    "#### Cleaning up the `competitions_frame`\n",
    "The following will display the column names:"
   ]
  },
  {
   "cell_type": "code",
   "execution_count": 4,
   "id": "afb84dc2-041a-4c39-90c5-45016a8c2c1d",
   "metadata": {},
   "outputs": [
    {
     "name": "stdout",
     "output_type": "stream",
     "text": [
      "id\n",
      "name\n",
      "cityName\n",
      "countryId\n",
      "information\n",
      "year\n",
      "month\n",
      "day\n",
      "endMonth\n",
      "endDay\n",
      "cancelled\n",
      "eventSpecs\n",
      "wcaDelegate\n",
      "organiser\n",
      "venue\n",
      "venueAddress\n",
      "venueDetails\n",
      "external_website\n",
      "cellName\n",
      "latitude\n",
      "longitude\n"
     ]
    }
   ],
   "source": [
    "for col in competitions_frame.columns:\n",
    "    print(col)"
   ]
  },
  {
   "cell_type": "markdown",
   "id": "76ea072e-cd02-469a-bfc7-18d823cea323",
   "metadata": {},
   "source": [
    "Now lets clean up the competitions table by droppping all the unnecessay columns (such as `venue`, `organiser`, etc.) and combine the start date columns into one column"
   ]
  },
  {
   "cell_type": "code",
   "execution_count": 5,
   "id": "b70c062e-d620-44cc-b910-d947f2049729",
   "metadata": {},
   "outputs": [
    {
     "data": {
      "text/html": [
       "<div>\n",
       "<style scoped>\n",
       "    .dataframe tbody tr th:only-of-type {\n",
       "        vertical-align: middle;\n",
       "    }\n",
       "\n",
       "    .dataframe tbody tr th {\n",
       "        vertical-align: top;\n",
       "    }\n",
       "\n",
       "    .dataframe thead th {\n",
       "        text-align: right;\n",
       "    }\n",
       "</style>\n",
       "<table border=\"1\" class=\"dataframe\">\n",
       "  <thead>\n",
       "    <tr style=\"text-align: right;\">\n",
       "      <th></th>\n",
       "      <th>id</th>\n",
       "      <th>name</th>\n",
       "      <th>countryId</th>\n",
       "      <th>year</th>\n",
       "      <th>cancelled</th>\n",
       "      <th>startDate</th>\n",
       "    </tr>\n",
       "  </thead>\n",
       "  <tbody>\n",
       "    <tr>\n",
       "      <th>0</th>\n",
       "      <td>100Merito2018</td>\n",
       "      <td>100º Mérito 2018</td>\n",
       "      <td>Brazil</td>\n",
       "      <td>2018</td>\n",
       "      <td>0</td>\n",
       "      <td>2018-04-14</td>\n",
       "    </tr>\n",
       "    <tr>\n",
       "      <th>1</th>\n",
       "      <td>10doRioGrandedoNorte2018</td>\n",
       "      <td>10º do Rio Grande do Norte 2018</td>\n",
       "      <td>Brazil</td>\n",
       "      <td>2018</td>\n",
       "      <td>0</td>\n",
       "      <td>2018-12-15</td>\n",
       "    </tr>\n",
       "    <tr>\n",
       "      <th>2</th>\n",
       "      <td>12SidesofSilesia2018</td>\n",
       "      <td>12 Sides of Silesia 2018</td>\n",
       "      <td>Poland</td>\n",
       "      <td>2018</td>\n",
       "      <td>0</td>\n",
       "      <td>2018-03-03</td>\n",
       "    </tr>\n",
       "    <tr>\n",
       "      <th>3</th>\n",
       "      <td>150thCubeMeetinginBrest2017</td>\n",
       "      <td>150th Cube Meeting in Brest 2017</td>\n",
       "      <td>Belarus</td>\n",
       "      <td>2017</td>\n",
       "      <td>0</td>\n",
       "      <td>2017-07-22</td>\n",
       "    </tr>\n",
       "    <tr>\n",
       "      <th>4</th>\n",
       "      <td>1AVG2013</td>\n",
       "      <td>1 AVG competition 2013</td>\n",
       "      <td>Netherlands</td>\n",
       "      <td>2013</td>\n",
       "      <td>0</td>\n",
       "      <td>2013-04-01</td>\n",
       "    </tr>\n",
       "  </tbody>\n",
       "</table>\n",
       "</div>"
      ],
      "text/plain": [
       "                            id                              name    countryId  \\\n",
       "0                100Merito2018                  100º Mérito 2018       Brazil   \n",
       "1     10doRioGrandedoNorte2018   10º do Rio Grande do Norte 2018       Brazil   \n",
       "2         12SidesofSilesia2018          12 Sides of Silesia 2018       Poland   \n",
       "3  150thCubeMeetinginBrest2017  150th Cube Meeting in Brest 2017      Belarus   \n",
       "4                     1AVG2013            1 AVG competition 2013  Netherlands   \n",
       "\n",
       "   year  cancelled  startDate  \n",
       "0  2018          0 2018-04-14  \n",
       "1  2018          0 2018-12-15  \n",
       "2  2018          0 2018-03-03  \n",
       "3  2017          0 2017-07-22  \n",
       "4  2013          0 2013-04-01  "
      ]
     },
     "execution_count": 5,
     "metadata": {},
     "output_type": "execute_result"
    }
   ],
   "source": [
    "necessary_cols = set(['id', 'name', 'countryId', 'cancelled', 'year', 'month', 'day'])\n",
    "# getting the unnecessary columns\n",
    "unncessary_cols = set(competitions_frame.columns.tolist()) - necessary_cols\n",
    "\n",
    "# dropping the unncessary columns\n",
    "competitions_frame.drop(unncessary_cols, axis = 1, inplace = True)\n",
    "\n",
    "# combining the year-month-day columns to one datetime column\n",
    "competitions_frame['startDate'] = pd.to_datetime(competitions_frame[['year', 'month', 'day']])\n",
    "\n",
    "# keeping the year because it can be useful when doing analysis\n",
    "competitions_frame.drop(['month','day'], axis = 1, inplace = True)\n",
    "\n",
    "# veiwing\n",
    "competitions_frame.head()"
   ]
  },
  {
   "cell_type": "markdown",
   "id": "402c895d-2348-473d-9315-2a46a7c30aa3",
   "metadata": {},
   "source": [
    "One last step is cleaning up the name column. Currently it has both the name of the competition and the year all in one cell. I want to drop the information about the year so we have a consistent name."
   ]
  },
  {
   "cell_type": "code",
   "execution_count": 6,
   "id": "70d2f7be-60f9-4ff5-ad44-08fdfa0b68a6",
   "metadata": {},
   "outputs": [
    {
     "data": {
      "text/html": [
       "<div>\n",
       "<style scoped>\n",
       "    .dataframe tbody tr th:only-of-type {\n",
       "        vertical-align: middle;\n",
       "    }\n",
       "\n",
       "    .dataframe tbody tr th {\n",
       "        vertical-align: top;\n",
       "    }\n",
       "\n",
       "    .dataframe thead th {\n",
       "        text-align: right;\n",
       "    }\n",
       "</style>\n",
       "<table border=\"1\" class=\"dataframe\">\n",
       "  <thead>\n",
       "    <tr style=\"text-align: right;\">\n",
       "      <th></th>\n",
       "      <th>id</th>\n",
       "      <th>name</th>\n",
       "      <th>countryId</th>\n",
       "      <th>year</th>\n",
       "      <th>cancelled</th>\n",
       "      <th>startDate</th>\n",
       "    </tr>\n",
       "  </thead>\n",
       "  <tbody>\n",
       "    <tr>\n",
       "      <th>0</th>\n",
       "      <td>100Merito2018</td>\n",
       "      <td>100º Mérito</td>\n",
       "      <td>Brazil</td>\n",
       "      <td>2018</td>\n",
       "      <td>0</td>\n",
       "      <td>2018-04-14</td>\n",
       "    </tr>\n",
       "    <tr>\n",
       "      <th>1</th>\n",
       "      <td>10doRioGrandedoNorte2018</td>\n",
       "      <td>10º do Rio Grande do Norte</td>\n",
       "      <td>Brazil</td>\n",
       "      <td>2018</td>\n",
       "      <td>0</td>\n",
       "      <td>2018-12-15</td>\n",
       "    </tr>\n",
       "    <tr>\n",
       "      <th>2</th>\n",
       "      <td>12SidesofSilesia2018</td>\n",
       "      <td>12 Sides of Silesia</td>\n",
       "      <td>Poland</td>\n",
       "      <td>2018</td>\n",
       "      <td>0</td>\n",
       "      <td>2018-03-03</td>\n",
       "    </tr>\n",
       "    <tr>\n",
       "      <th>3</th>\n",
       "      <td>150thCubeMeetinginBrest2017</td>\n",
       "      <td>150th Cube Meeting in Brest</td>\n",
       "      <td>Belarus</td>\n",
       "      <td>2017</td>\n",
       "      <td>0</td>\n",
       "      <td>2017-07-22</td>\n",
       "    </tr>\n",
       "    <tr>\n",
       "      <th>4</th>\n",
       "      <td>1AVG2013</td>\n",
       "      <td>1 AVG competition</td>\n",
       "      <td>Netherlands</td>\n",
       "      <td>2013</td>\n",
       "      <td>0</td>\n",
       "      <td>2013-04-01</td>\n",
       "    </tr>\n",
       "  </tbody>\n",
       "</table>\n",
       "</div>"
      ],
      "text/plain": [
       "                            id                         name    countryId  \\\n",
       "0                100Merito2018                  100º Mérito       Brazil   \n",
       "1     10doRioGrandedoNorte2018   10º do Rio Grande do Norte       Brazil   \n",
       "2         12SidesofSilesia2018          12 Sides of Silesia       Poland   \n",
       "3  150thCubeMeetinginBrest2017  150th Cube Meeting in Brest      Belarus   \n",
       "4                     1AVG2013            1 AVG competition  Netherlands   \n",
       "\n",
       "   year  cancelled  startDate  \n",
       "0  2018          0 2018-04-14  \n",
       "1  2018          0 2018-12-15  \n",
       "2  2018          0 2018-03-03  \n",
       "3  2017          0 2017-07-22  \n",
       "4  2013          0 2013-04-01  "
      ]
     },
     "execution_count": 6,
     "metadata": {},
     "output_type": "execute_result"
    }
   ],
   "source": [
    "# the last 5 characters of every name seem to be the year information so slicing the string should be fine. \n",
    "competitions_frame['name'] = competitions_frame['name'].apply(lambda x: x[:-5])\n",
    "competitions_frame.head()"
   ]
  },
  {
   "cell_type": "markdown",
   "id": "5dddc202-95ab-48aa-b28c-b077f71606e2",
   "metadata": {},
   "source": [
    "#### Cleaning up the `results_frame`\n",
    "The types of puzzles in the results table."
   ]
  },
  {
   "cell_type": "code",
   "execution_count": 7,
   "id": "c29ab02c-24a1-4bf6-af19-d040bb1ef1e0",
   "metadata": {},
   "outputs": [
    {
     "data": {
      "text/plain": [
       "array(['333', '333oh', '444', '555', '333bf', '333mbo', 'minx', '333ft',\n",
       "       'mmagic', 'clock', '333fm', '222', 'magic', 'sq1', 'pyram',\n",
       "       '444bf', '555bf', '666', '777', '333mbf', 'skewb'], dtype=object)"
      ]
     },
     "metadata": {},
     "output_type": "display_data"
    }
   ],
   "source": [
    "display(results_frame['eventId'].unique())"
   ]
  },
  {
   "cell_type": "markdown",
   "id": "95c227ca-5812-40d1-8174-073ca27648e9",
   "metadata": {},
   "source": [
    "Types of puzzles in the scrambles table."
   ]
  },
  {
   "cell_type": "markdown",
   "id": "e5a0c0d8-4521-4bb5-8e9c-c72cfbbc7fd0",
   "metadata": {},
   "source": [
    "#### Information on the abbreviations\n",
    "There are numerous abbreviations for the different events. We are only concerned about the `333` event.\n",
    "> **All 3x3x3 Events**\n",
    "> * `333   ` - Standard 3x3x3 event\n",
    "> * `333bf ` - 3x3x3 Blindfolded\n",
    "> * `333oh ` - 3x3x3 One Handed\n",
    "> * `333fm ` - 3x3x3 Fewest Moves\n",
    "> * `333ft ` - 3x3x3 With Feet\n",
    "> * `333mbf` - 3x3x3 Multi-Blindfolded"
   ]
  },
  {
   "cell_type": "markdown",
   "id": "af8b076a-a372-4489-973d-4796c7c0cf6a",
   "metadata": {},
   "source": [
    "#### Trimming the Data\n",
    "Now that we know what we are looking for we can remove any rows relating to anything that is not **3x3x3** events"
   ]
  },
  {
   "cell_type": "code",
   "execution_count": 8,
   "id": "cb023f89-61b9-415b-81d2-baee78e423d8",
   "metadata": {},
   "outputs": [],
   "source": [
    "results_frame = results_frame[results_frame['eventId'] == '333']"
   ]
  },
  {
   "cell_type": "markdown",
   "id": "23ec01c1-3ef4-4b2d-bdba-ccb6902be484",
   "metadata": {},
   "source": [
    "We can also remove a lot of the columns from the data. \n",
    "- `eventId` - Everything is now 3x3x3 so we no longer need this\n",
    "- `pos` - We do not need to care about the position of the individual competitors\n",
    "- `best` - We do not need the best time because we are looking for overall trends\n",
    "- `roundTypeId`\n",
    "- `personName`\n",
    "- `formatId`\n",
    "- `personId`\n",
    "- `personCountryId`\n",
    "- `regionalSingleRecord`\n",
    "- `regionalAverageRecord`\n",
    "\n",
    "Now lets drop these columns in the data."
   ]
  },
  {
   "cell_type": "code",
   "execution_count": 9,
   "id": "c57ce21c-06d5-4a96-8663-d9510ff9a9ff",
   "metadata": {},
   "outputs": [],
   "source": [
    "results_frame.drop(['eventId', 'pos', 'best', 'roundTypeId', 'personName',\n",
    "                    'personCountryId', 'regionalSingleRecord', 'formatId', \n",
    "                    'personId', 'regionalAverageRecord'], axis = 1, inplace = True)"
   ]
  },
  {
   "cell_type": "code",
   "execution_count": 10,
   "id": "28af4ede-a985-4f3e-bcbf-88dcc6d44396",
   "metadata": {},
   "outputs": [
    {
     "data": {
      "text/html": [
       "<div>\n",
       "<style scoped>\n",
       "    .dataframe tbody tr th:only-of-type {\n",
       "        vertical-align: middle;\n",
       "    }\n",
       "\n",
       "    .dataframe tbody tr th {\n",
       "        vertical-align: top;\n",
       "    }\n",
       "\n",
       "    .dataframe thead th {\n",
       "        text-align: right;\n",
       "    }\n",
       "</style>\n",
       "<table border=\"1\" class=\"dataframe\">\n",
       "  <thead>\n",
       "    <tr style=\"text-align: right;\">\n",
       "      <th></th>\n",
       "      <th>competitionId</th>\n",
       "      <th>average</th>\n",
       "      <th>value1</th>\n",
       "      <th>value2</th>\n",
       "      <th>value3</th>\n",
       "      <th>value4</th>\n",
       "      <th>value5</th>\n",
       "    </tr>\n",
       "  </thead>\n",
       "  <tbody>\n",
       "    <tr>\n",
       "      <th>0</th>\n",
       "      <td>LyonOpen2007</td>\n",
       "      <td>2128</td>\n",
       "      <td>1968</td>\n",
       "      <td>2203</td>\n",
       "      <td>2138</td>\n",
       "      <td>2139</td>\n",
       "      <td>2108</td>\n",
       "    </tr>\n",
       "    <tr>\n",
       "      <th>1</th>\n",
       "      <td>LyonOpen2007</td>\n",
       "      <td>2140</td>\n",
       "      <td>2222</td>\n",
       "      <td>2153</td>\n",
       "      <td>1731</td>\n",
       "      <td>2334</td>\n",
       "      <td>2046</td>\n",
       "    </tr>\n",
       "    <tr>\n",
       "      <th>2</th>\n",
       "      <td>LyonOpen2007</td>\n",
       "      <td>2637</td>\n",
       "      <td>3430</td>\n",
       "      <td>2581</td>\n",
       "      <td>2540</td>\n",
       "      <td>2789</td>\n",
       "      <td>2305</td>\n",
       "    </tr>\n",
       "    <tr>\n",
       "      <th>3</th>\n",
       "      <td>LyonOpen2007</td>\n",
       "      <td>2637</td>\n",
       "      <td>2715</td>\n",
       "      <td>2452</td>\n",
       "      <td>2868</td>\n",
       "      <td>2632</td>\n",
       "      <td>2564</td>\n",
       "    </tr>\n",
       "    <tr>\n",
       "      <th>4</th>\n",
       "      <td>LyonOpen2007</td>\n",
       "      <td>2906</td>\n",
       "      <td>2921</td>\n",
       "      <td>3184</td>\n",
       "      <td>2891</td>\n",
       "      <td>2677</td>\n",
       "      <td>2907</td>\n",
       "    </tr>\n",
       "  </tbody>\n",
       "</table>\n",
       "</div>"
      ],
      "text/plain": [
       "  competitionId  average  value1  value2  value3  value4  value5\n",
       "0  LyonOpen2007     2128    1968    2203    2138    2139    2108\n",
       "1  LyonOpen2007     2140    2222    2153    1731    2334    2046\n",
       "2  LyonOpen2007     2637    3430    2581    2540    2789    2305\n",
       "3  LyonOpen2007     2637    2715    2452    2868    2632    2564\n",
       "4  LyonOpen2007     2906    2921    3184    2891    2677    2907"
      ]
     },
     "execution_count": 10,
     "metadata": {},
     "output_type": "execute_result"
    }
   ],
   "source": [
    "results_frame.head()"
   ]
  },
  {
   "cell_type": "markdown",
   "id": "aebd956d-8af6-4109-9747-587c911ea66a",
   "metadata": {},
   "source": [
    "### Preparing for Plotting\n",
    "Now that we have our data we can plot it to get a visual understanding of how fast Rubki's Cubes have been solved over time. \n",
    "This can help visualize any potential patterns. \n",
    "\n",
    "#### Generating the Points to Plot\n",
    "For this initial plot I will be plotting the average solve time per individual vs the date it was made. "
   ]
  },
  {
   "cell_type": "code",
   "execution_count": 11,
   "id": "0182d6da-1308-413b-9050-108ee33fc7ae",
   "metadata": {},
   "outputs": [
    {
     "data": {
      "text/html": [
       "<div>\n",
       "<style scoped>\n",
       "    .dataframe tbody tr th:only-of-type {\n",
       "        vertical-align: middle;\n",
       "    }\n",
       "\n",
       "    .dataframe tbody tr th {\n",
       "        vertical-align: top;\n",
       "    }\n",
       "\n",
       "    .dataframe thead th {\n",
       "        text-align: right;\n",
       "    }\n",
       "</style>\n",
       "<table border=\"1\" class=\"dataframe\">\n",
       "  <thead>\n",
       "    <tr style=\"text-align: right;\">\n",
       "      <th></th>\n",
       "      <th>date</th>\n",
       "      <th>year</th>\n",
       "      <th>averageTime</th>\n",
       "    </tr>\n",
       "  </thead>\n",
       "  <tbody>\n",
       "    <tr>\n",
       "      <th>0</th>\n",
       "      <td>2007-09-01</td>\n",
       "      <td>2007</td>\n",
       "      <td>2128</td>\n",
       "    </tr>\n",
       "    <tr>\n",
       "      <th>1</th>\n",
       "      <td>2007-09-01</td>\n",
       "      <td>2007</td>\n",
       "      <td>2140</td>\n",
       "    </tr>\n",
       "    <tr>\n",
       "      <th>2</th>\n",
       "      <td>2007-09-01</td>\n",
       "      <td>2007</td>\n",
       "      <td>2637</td>\n",
       "    </tr>\n",
       "    <tr>\n",
       "      <th>3</th>\n",
       "      <td>2007-09-01</td>\n",
       "      <td>2007</td>\n",
       "      <td>2637</td>\n",
       "    </tr>\n",
       "    <tr>\n",
       "      <th>4</th>\n",
       "      <td>2007-09-01</td>\n",
       "      <td>2007</td>\n",
       "      <td>2906</td>\n",
       "    </tr>\n",
       "  </tbody>\n",
       "</table>\n",
       "</div>"
      ],
      "text/plain": [
       "        date  year  averageTime\n",
       "0 2007-09-01  2007         2128\n",
       "1 2007-09-01  2007         2140\n",
       "2 2007-09-01  2007         2637\n",
       "3 2007-09-01  2007         2637\n",
       "4 2007-09-01  2007         2906"
      ]
     },
     "metadata": {},
     "output_type": "display_data"
    }
   ],
   "source": [
    "points = pd.DataFrame()\n",
    "points['date'] = results_frame['competitionId'].map(competitions_frame.set_index('id')['startDate'])\n",
    "points['year'] = results_frame['competitionId'].map(competitions_frame.set_index('id')['year'])\n",
    "points['averageTime'] = results_frame['average']\n",
    "display(points.head())"
   ]
  },
  {
   "cell_type": "markdown",
   "id": "c8ae125d-4d0f-4a5f-ac4f-0a53ab8d0c94",
   "metadata": {},
   "source": [
    "### Plotting"
   ]
  },
  {
   "cell_type": "code",
   "execution_count": 12,
   "id": "238e43dc-3c79-4e66-9c3e-78c64849baa5",
   "metadata": {},
   "outputs": [
    {
     "data": {
      "text/plain": [
       "[Text(0, 0.5, 'Amount of Time to Solve (centiseconds)'), Text(0.5, 0, 'Year')]"
      ]
     },
     "execution_count": 12,
     "metadata": {},
     "output_type": "execute_result"
    },
    {
     "data": {
      "image/png": "[encoded data removed]",
      "text/plain": [
       "<Figure size 432x288 with 1 Axes>"
      ]
     },
     "metadata": {
      "needs_background": "light"
     },
     "output_type": "display_data"
    }
   ],
   "source": [
    "plot = points.plot.scatter('date', 'averageTime', alpha = 0.3)\n",
    "plt.title(\"Rubik's Cube Solve Speed Over Time\")\n",
    "plot.set(ylabel=\"Amount of Time to Solve (centiseconds)\", xlabel=\"Year\")"
   ]
  },
  {
   "cell_type": "markdown",
   "id": "adc7327d-f5cc-44d5-8265-c0b03d1800a6",
   "metadata": {
    "tags": []
   },
   "source": [
    "## Zero Time??\n",
    "Taking a look at the above plot we can see that there are a lot of averages and solutions that take $0 \\space centiseconds$ to solve. This does not make sense, so lets look back at the **README** files to figure out if there is any alternative meaning for a time value of $0$.\n",
    "\n",
    "> **README Text**\n",
    ">- The value `-1` means DNF (Did Not Finish).\n",
    ">- The value `-2` means DNS (Did Not Start).\n",
    ">- The value `0` means \"no result\". For example a result in a `best-of-3` round\n",
    "  has a value of `0` for the `value4`, `value5`, and `average` fields.\n",
    "\n",
    "The **README** tells us that the above times count for missing points in the dataset. \n",
    "<br>\n",
    "One important observation from the **README** is that averages are set to $0$ when the competitor did not solve 5 Rubik's Cubes because the event did not involve 5 Rubik's Cubes. It then is misleading to plot and use `average` time because of the numerous competitors who did not compete in a 5 cube average event. Therefore we will drop the `averages` column because it no longer is of use."
   ]
  },
  {
   "cell_type": "code",
   "execution_count": 13,
   "id": "f269ec53-816d-42e1-817f-f342d785589b",
   "metadata": {},
   "outputs": [],
   "source": [
    "results_frame.drop('average', axis = 1, inplace = True)"
   ]
  },
  {
   "cell_type": "markdown",
   "id": "323b47b7-2c7d-400a-9106-da24b35aab1a",
   "metadata": {},
   "source": [
    "Now lets look at how many points in our dataset are missing. This will be done through a function.\n",
    "<br>\n",
    "The function `check_missing` takes a table and an encoding for missing values and returns the count and percentage of the table that is the missing values"
   ]
  },
  {
   "cell_type": "code",
   "execution_count": 14,
   "id": "7411d865-3757-4f50-8372-844720b35562",
   "metadata": {},
   "outputs": [],
   "source": [
    "def check_missing(frame, missing_values, cols_to_check):\n",
    "    # counter to keep track of missing values in columns value1, value2, ...\n",
    "    mis_vals = dict(missing_values)\n",
    "    for key in mis_vals.keys():\n",
    "        mis_vals[key] = 0\n",
    "\n",
    "    for col in cols_to_check:\n",
    "        for key,value in missing_values.items():\n",
    "            counts = frame[col].value_counts()\n",
    "            if value in counts:\n",
    "                mis_vals[key] += counts[value]\n",
    "\n",
    "    # getting totals missing data\n",
    "    mis_vals['Total Missing'] = sum(mis_vals.values())\n",
    "    \n",
    "    # multipying length by lenth of number of columns\n",
    "    num_values = len(frame) * len(cols_to_check)\n",
    "    \n",
    "    # getting percentages\n",
    "    mis_val_percent = dict(mis_vals)\n",
    "    for key, val in mis_val_percent.items():\n",
    "        mis_val_percent[key] = 100 * mis_vals[key] / num_values\n",
    "    \n",
    "    # getting into table format\n",
    "    rows = [None] * len(mis_vals.keys())\n",
    "    \n",
    "    for i in range(0, len(mis_vals.keys())):\n",
    "        key = list(mis_vals.keys())[i]\n",
    "        rows[i] = {'Number': mis_vals[key], \n",
    "                   'Percent of Total Data': mis_val_percent[key]}\n",
    "        \n",
    "    \n",
    "\n",
    "    # making table of findings\n",
    "    missing_counts = pd.DataFrame(rows, index = mis_vals.keys())\n",
    "\n",
    "    display(missing_counts)"
   ]
  },
  {
   "cell_type": "code",
   "execution_count": 15,
   "id": "7d96d925-13ed-4fab-bc5c-bfbe65935428",
   "metadata": {},
   "outputs": [
    {
     "data": {
      "text/html": [
       "<div>\n",
       "<style scoped>\n",
       "    .dataframe tbody tr th:only-of-type {\n",
       "        vertical-align: middle;\n",
       "    }\n",
       "\n",
       "    .dataframe tbody tr th {\n",
       "        vertical-align: top;\n",
       "    }\n",
       "\n",
       "    .dataframe thead th {\n",
       "        text-align: right;\n",
       "    }\n",
       "</style>\n",
       "<table border=\"1\" class=\"dataframe\">\n",
       "  <thead>\n",
       "    <tr style=\"text-align: right;\">\n",
       "      <th></th>\n",
       "      <th>Number</th>\n",
       "      <th>Percent of Total Data</th>\n",
       "    </tr>\n",
       "  </thead>\n",
       "  <tbody>\n",
       "    <tr>\n",
       "      <th>DNF</th>\n",
       "      <td>87621</td>\n",
       "      <td>2.253418</td>\n",
       "    </tr>\n",
       "    <tr>\n",
       "      <th>DNS</th>\n",
       "      <td>2359</td>\n",
       "      <td>0.060668</td>\n",
       "    </tr>\n",
       "    <tr>\n",
       "      <th>No Result</th>\n",
       "      <td>16485</td>\n",
       "      <td>0.423958</td>\n",
       "    </tr>\n",
       "    <tr>\n",
       "      <th>Total Missing</th>\n",
       "      <td>106465</td>\n",
       "      <td>2.738044</td>\n",
       "    </tr>\n",
       "  </tbody>\n",
       "</table>\n",
       "</div>"
      ],
      "text/plain": [
       "               Number  Percent of Total Data\n",
       "DNF             87621               2.253418\n",
       "DNS              2359               0.060668\n",
       "No Result       16485               0.423958\n",
       "Total Missing  106465               2.738044"
      ]
     },
     "metadata": {},
     "output_type": "display_data"
    }
   ],
   "source": [
    "check_missing(results_frame, \n",
    "              missing_values = {'DNF' : -1, 'DNS': -2, 'No Result': 0}, \n",
    "              cols_to_check = ['value1', 'value2', 'value3', 'value4', 'value5'])"
   ]
  },
  {
   "cell_type": "markdown",
   "id": "81c58a8d-acf1-49ea-909a-9a77862fe633",
   "metadata": {},
   "source": [
    "There seems to be a lot of missing data. However because of the size of the data set, the missing data reprsents a small portion (only about 2.7 percent)."
   ]
  },
  {
   "cell_type": "markdown",
   "id": "14d45264-a7d7-41cc-99f3-b3fa2e5f180c",
   "metadata": {},
   "source": [
    "## Missing Data: What to do?\n",
    "As described above, there are three types of missing values in the dataset. Before we can properly handle these missing values we must first determine what kind of missing data we are dealing with. \n",
    "<br>\n",
    "There are three major types of missing data:\n",
    "- Missing Completely at Random\n",
    "- Missing At Random\n",
    "- Missing Not at Random\n",
    "\n",
    "#### Missing Completely at Random\n",
    "This happens when the data is missing for purely random reasons and there is no way to systematically predict if a datapoint is missing. Overall this is ***VERY RARE*** and it did not occur in our data.\n",
    "\n",
    "#### Missing At Random\n",
    "In this case probabily a certain datapoint is missing is dependent on the information that we already have. For example in our dataset the \"**no result**\" data is something that is missing at random.\n",
    "<br>\n",
    "No result only occurs when the competition was not a best of 5 solves event. In the case that a competiton was best of 3 or best of 2, the competitors do not solve a cube for the 4<sup>th</sup> or 5<sup>th</sup> time. There is thus no value to then record in the `value4` and `value5` of the table. We can then model if a particular cell is going to be zero by the following:\n",
    "```\n",
    "if (from competition that is best of 3) {\n",
    "    value4 is 0\n",
    "    value5 is 0\n",
    "    average is 0\n",
    "}\n",
    "if (from competition that is best of 2) {\n",
    "    value3 is 0\n",
    "}\n",
    "```\n",
    "The purpose of this analysis is to determine if there are competitions that are harder than others. We do not particularly care if a competition was a best of 5, 3, or 2. All we care about is the raw list of times that did take place for each competition. For this reason we can ignore the values of **no result**.\n",
    "\n",
    "#### Missing Not At Random\n",
    "This happens when the missing data is missing for a reason that has to do with the data itself. A simple example is when someone refuses to answer a question in a survey because they are embarassed by their potential answer. In our data the **DNF** and **DNS** are *missing not at random*. Before we can proceed we must first decide what to do with each of these values.\n",
    "<br><br>\n",
    "For DNSs:\n",
    "<br>\n",
    "From the above code we can see that they account for $0.06$ percent of the total data that we have. This is a tiny fraction so I believe that any changes made will cause any impact on our final result. For these reasons I believe that it is alright to ignore and drop these values. \n",
    "<br><br>\n",
    "For DNFs:\n",
    "<br>\n",
    "These values represent the majority of the missing data in our dataset so it is not something that we can ignore. DNFs occur in many ways but the most common way is from an unfinished cube. By the [WCA regulations](https://www.worldcubeassociation.org/regulations/guidelines.html#article-10-solved-state) an unfinished cube requires 2 or more outer turns to reach a solved state, and attempts with such solutions receive a DNF.\n",
    "<br>\n",
    "We cannot simply ignore DNFs. If a competitor did not finish solving a puzzle then it may be an indication that the puzzle itself was harder to solve. Determining if certain competitioins (and by extention puzzles) are harder to solve is the entire point of this analysis so ignoring these values is detrimential. \n",
    "<br><br>\n",
    "What Should the Value be?\n",
    "<br>\n",
    "In practice the vast majority of DNFs are from a failed `M slice`. An `M slice` is when you rotate the center slice of a Rubik's Cube. When failing an `M slice` the cube is 1 or 2 center turns from being solved. In both of these cases (1 turn or 2 turns) the attempt is considered a DNF because a single `M slice` requires 2 outer cube rotations to be completed. \n",
    "> `M slices` are common final moves as they are required at the end of many solution algorithms. \n",
    "\n",
    "In competition being 1 turn from fully solved recieves a pentaly of $+2$ seconds. To then properly account for a failed `M slice` I will use a pentaly of $+4$ seconds applied to the average of the other times of the competitor. A $+4$ penalty is given as it accounts for how a `M slice` is typically a more cumbersome and difficult move to complete when compared to the traditional moves. Additionally it has a higher penality which fits the spirit of the WCA regulations that more highly penalize non-face turns.   "
   ]
  },
  {
   "cell_type": "markdown",
   "id": "4370607e-4678-4c97-97a6-324a4ccc04ff",
   "metadata": {},
   "source": [
    "### `M slice` Picture\n",
    "![Alt text](https://ruwix.com/pics/notation/rubiks-cube-notation-middle.png)"
   ]
  },
  {
   "cell_type": "markdown",
   "id": "ae378e8d-f1e7-4f65-9612-4678a4d7262c",
   "metadata": {},
   "source": [
    "### First to deal with the DNF values\n",
    "The function `impute`, will replace all the DNFs in `results_frame` with the averages of valid times from each row with a `+4` second penalty.\n",
    "> Note:\n",
    "> <br>\n",
    "> If all the values of a competitor are missing (i.e. if all values are either \"no result\", DNF, or DNS) then the DNF values are remain at `-1`"
   ]
  },
  {
   "cell_type": "code",
   "execution_count": 16,
   "id": "1bb11ff1-1dd3-4a9a-a91f-0c74b833d699",
   "metadata": {},
   "outputs": [],
   "source": [
    "def impute(frame):\n",
    "    \n",
    "    # to take an average while of values that don't correspond to missing values\n",
    "    # we will set all missing values to NaN. This will be done in a separate frame\n",
    "    # as to not lose the original data.\n",
    "    is_na = frame.replace(-1, np.NaN).drop('competitionId', axis = 1)\n",
    "    is_na = is_na.replace(0, np.NaN)\n",
    "    is_na = is_na.replace(-2, np.NaN)\n",
    "    \n",
    "    # Now we are taking the mean of every row in the new frame we made\n",
    "    # adding 400 centiseconds to the values of the averages (+4 seconds)\n",
    "    is_na['averages'] = is_na.mean(axis = 1) + 400\n",
    "    \n",
    "    # converting everything back to ints (any rows where we could not get average is left as -1)\n",
    "    is_na['averages'].fillna(-1, inplace = True)\n",
    "    is_na['averages'] = is_na['averages'].astype(int)\n",
    "\n",
    "    # now looping through all the value columns in the original dataframe and replacing any\n",
    "    # DNFs with the average + penalty that we just computed above. \n",
    "    # the mask variable will remove any values from the pandas series that do not correspond\n",
    "    # to a row with a -1 (DNF) value.\n",
    "    cols_to_check = ['value1', 'value2', 'value3', 'value4', 'value5']\n",
    "    for col in cols_to_check:\n",
    "        mask = frame[col] == -1\n",
    "        frame.loc[mask, col] = is_na.loc[mask, 'averages']"
   ]
  },
  {
   "cell_type": "code",
   "execution_count": 17,
   "id": "09bc59e2-09ab-4bb9-92ce-1767480161e5",
   "metadata": {},
   "outputs": [
    {
     "data": {
      "text/html": [
       "<div>\n",
       "<style scoped>\n",
       "    .dataframe tbody tr th:only-of-type {\n",
       "        vertical-align: middle;\n",
       "    }\n",
       "\n",
       "    .dataframe tbody tr th {\n",
       "        vertical-align: top;\n",
       "    }\n",
       "\n",
       "    .dataframe thead th {\n",
       "        text-align: right;\n",
       "    }\n",
       "</style>\n",
       "<table border=\"1\" class=\"dataframe\">\n",
       "  <thead>\n",
       "    <tr style=\"text-align: right;\">\n",
       "      <th></th>\n",
       "      <th>Number</th>\n",
       "      <th>Percent of Total Data</th>\n",
       "    </tr>\n",
       "  </thead>\n",
       "  <tbody>\n",
       "    <tr>\n",
       "      <th>DNF</th>\n",
       "      <td>2113</td>\n",
       "      <td>0.054342</td>\n",
       "    </tr>\n",
       "    <tr>\n",
       "      <th>DNS</th>\n",
       "      <td>2359</td>\n",
       "      <td>0.060668</td>\n",
       "    </tr>\n",
       "    <tr>\n",
       "      <th>No Result</th>\n",
       "      <td>16485</td>\n",
       "      <td>0.423958</td>\n",
       "    </tr>\n",
       "    <tr>\n",
       "      <th>Total Missing</th>\n",
       "      <td>20957</td>\n",
       "      <td>0.538968</td>\n",
       "    </tr>\n",
       "  </tbody>\n",
       "</table>\n",
       "</div>"
      ],
      "text/plain": [
       "               Number  Percent of Total Data\n",
       "DNF              2113               0.054342\n",
       "DNS              2359               0.060668\n",
       "No Result       16485               0.423958\n",
       "Total Missing   20957               0.538968"
      ]
     },
     "metadata": {},
     "output_type": "display_data"
    }
   ],
   "source": [
    "# imputing and looking at the amount of missing values left.\n",
    "impute(results_frame)\n",
    "check_missing(results_frame, \n",
    "              missing_values = {'DNF' : -1, 'DNS': -2, 'No Result': 0}, \n",
    "              cols_to_check = ['value1', 'value2', 'value3', 'value4', 'value5'])"
   ]
  },
  {
   "cell_type": "markdown",
   "id": "7828e092-5a0a-4ffc-8a73-6372a0f985de",
   "metadata": {},
   "source": [
    "We went from having 87,000+ **DNF** data points to a little over 2,000 **DNF** points. This reduced the missing data proportion from $2.7\\%$ to $0.54\\%$.\n",
    "<br>\n",
    "Now recall that **No Result** datapoints can be completely ignored because they represent best of 3 and best of 2 events where there was no attempt number 4 or attempt number 5. These can be dropped without consequences. Of the remaining missing data, the combined totals of **DNF** and **DNS** now only make up around $0.11\\%$ of the data. This is a much lower number and it may now be possible to drop these remaining points without much impact on our final results. "
   ]
  },
  {
   "cell_type": "markdown",
   "id": "3cb9c99f-6ce0-4d35-9adb-2af502c6c677",
   "metadata": {},
   "source": [
    "#### Tidying Up Before Dealing With DNS\n",
    "Our `results_frame` has a list of 5 values for each column. It would be more useful if we had a table with two columns, one for `competitionId` and one for a time that happened at the competition. The following will shift our results table to be something easier to work with."
   ]
  },
  {
   "cell_type": "code",
   "execution_count": 18,
   "id": "bb113c3b-b0a8-4078-ba5a-6567a564bdb7",
   "metadata": {},
   "outputs": [
    {
     "data": {
      "text/html": [
       "<div>\n",
       "<style scoped>\n",
       "    .dataframe tbody tr th:only-of-type {\n",
       "        vertical-align: middle;\n",
       "    }\n",
       "\n",
       "    .dataframe tbody tr th {\n",
       "        vertical-align: top;\n",
       "    }\n",
       "\n",
       "    .dataframe thead th {\n",
       "        text-align: right;\n",
       "    }\n",
       "</style>\n",
       "<table border=\"1\" class=\"dataframe\">\n",
       "  <thead>\n",
       "    <tr style=\"text-align: right;\">\n",
       "      <th></th>\n",
       "      <th>competitionId</th>\n",
       "      <th>value1</th>\n",
       "      <th>value2</th>\n",
       "      <th>value3</th>\n",
       "      <th>value4</th>\n",
       "      <th>value5</th>\n",
       "    </tr>\n",
       "  </thead>\n",
       "  <tbody>\n",
       "    <tr>\n",
       "      <th>0</th>\n",
       "      <td>LyonOpen2007</td>\n",
       "      <td>1968</td>\n",
       "      <td>2203</td>\n",
       "      <td>2138</td>\n",
       "      <td>2139</td>\n",
       "      <td>2108</td>\n",
       "    </tr>\n",
       "    <tr>\n",
       "      <th>1</th>\n",
       "      <td>LyonOpen2007</td>\n",
       "      <td>2222</td>\n",
       "      <td>2153</td>\n",
       "      <td>1731</td>\n",
       "      <td>2334</td>\n",
       "      <td>2046</td>\n",
       "    </tr>\n",
       "    <tr>\n",
       "      <th>2</th>\n",
       "      <td>LyonOpen2007</td>\n",
       "      <td>3430</td>\n",
       "      <td>2581</td>\n",
       "      <td>2540</td>\n",
       "      <td>2789</td>\n",
       "      <td>2305</td>\n",
       "    </tr>\n",
       "    <tr>\n",
       "      <th>3</th>\n",
       "      <td>LyonOpen2007</td>\n",
       "      <td>2715</td>\n",
       "      <td>2452</td>\n",
       "      <td>2868</td>\n",
       "      <td>2632</td>\n",
       "      <td>2564</td>\n",
       "    </tr>\n",
       "    <tr>\n",
       "      <th>4</th>\n",
       "      <td>LyonOpen2007</td>\n",
       "      <td>2921</td>\n",
       "      <td>3184</td>\n",
       "      <td>2891</td>\n",
       "      <td>2677</td>\n",
       "      <td>2907</td>\n",
       "    </tr>\n",
       "  </tbody>\n",
       "</table>\n",
       "</div>"
      ],
      "text/plain": [
       "  competitionId  value1  value2  value3  value4  value5\n",
       "0  LyonOpen2007    1968    2203    2138    2139    2108\n",
       "1  LyonOpen2007    2222    2153    1731    2334    2046\n",
       "2  LyonOpen2007    3430    2581    2540    2789    2305\n",
       "3  LyonOpen2007    2715    2452    2868    2632    2564\n",
       "4  LyonOpen2007    2921    3184    2891    2677    2907"
      ]
     },
     "execution_count": 18,
     "metadata": {},
     "output_type": "execute_result"
    }
   ],
   "source": [
    "results_frame.head()"
   ]
  },
  {
   "cell_type": "code",
   "execution_count": 19,
   "id": "739887ac-6fd6-4e54-a6d6-7a5de40ed862",
   "metadata": {},
   "outputs": [
    {
     "data": {
      "text/html": [
       "<div>\n",
       "<style scoped>\n",
       "    .dataframe tbody tr th:only-of-type {\n",
       "        vertical-align: middle;\n",
       "    }\n",
       "\n",
       "    .dataframe tbody tr th {\n",
       "        vertical-align: top;\n",
       "    }\n",
       "\n",
       "    .dataframe thead th {\n",
       "        text-align: right;\n",
       "    }\n",
       "</style>\n",
       "<table border=\"1\" class=\"dataframe\">\n",
       "  <thead>\n",
       "    <tr style=\"text-align: right;\">\n",
       "      <th></th>\n",
       "      <th>competitionId</th>\n",
       "      <th>level_1</th>\n",
       "      <th>time</th>\n",
       "    </tr>\n",
       "  </thead>\n",
       "  <tbody>\n",
       "    <tr>\n",
       "      <th>0</th>\n",
       "      <td>LyonOpen2007</td>\n",
       "      <td>value1</td>\n",
       "      <td>1968</td>\n",
       "    </tr>\n",
       "    <tr>\n",
       "      <th>1</th>\n",
       "      <td>LyonOpen2007</td>\n",
       "      <td>value2</td>\n",
       "      <td>2203</td>\n",
       "    </tr>\n",
       "    <tr>\n",
       "      <th>2</th>\n",
       "      <td>LyonOpen2007</td>\n",
       "      <td>value3</td>\n",
       "      <td>2138</td>\n",
       "    </tr>\n",
       "    <tr>\n",
       "      <th>3</th>\n",
       "      <td>LyonOpen2007</td>\n",
       "      <td>value4</td>\n",
       "      <td>2139</td>\n",
       "    </tr>\n",
       "    <tr>\n",
       "      <th>4</th>\n",
       "      <td>LyonOpen2007</td>\n",
       "      <td>value5</td>\n",
       "      <td>2108</td>\n",
       "    </tr>\n",
       "  </tbody>\n",
       "</table>\n",
       "</div>"
      ],
      "text/plain": [
       "  competitionId level_1  time\n",
       "0  LyonOpen2007  value1  1968\n",
       "1  LyonOpen2007  value2  2203\n",
       "2  LyonOpen2007  value3  2138\n",
       "3  LyonOpen2007  value4  2139\n",
       "4  LyonOpen2007  value5  2108"
      ]
     },
     "metadata": {},
     "output_type": "display_data"
    }
   ],
   "source": [
    "pivoted = (results_frame.set_index('competitionId').stack())\n",
    "pivoted = pd.DataFrame(pivoted)\n",
    "pivoted.rename(columns = {0: 'time'}, inplace = True)\n",
    "pivoted.reset_index(inplace = True)\n",
    "display(pivoted.head())"
   ]
  },
  {
   "cell_type": "markdown",
   "id": "2e726a0a-8d8a-4526-aa19-782804af6499",
   "metadata": {},
   "source": [
    "Lets drop the `level_1` column because we no longer care about the information relating to which solve number a time is."
   ]
  },
  {
   "cell_type": "code",
   "execution_count": 20,
   "id": "f9ca1897-42ab-4cce-b4f0-4cf9b72e06b2",
   "metadata": {},
   "outputs": [],
   "source": [
    "pivoted.drop('level_1', axis = 1, inplace = True)"
   ]
  },
  {
   "cell_type": "markdown",
   "id": "37788732-78e2-47bf-832f-e168b9c5294e",
   "metadata": {},
   "source": [
    "### Dropping Remaining Missing Values\n",
    "The new pivoted form makes it much easier to drop the missing values without dropping an entire row of data."
   ]
  },
  {
   "cell_type": "code",
   "execution_count": 21,
   "id": "95d0f28b-bb43-4fb4-bcf6-455f451b697f",
   "metadata": {},
   "outputs": [
    {
     "data": {
      "text/html": [
       "<div>\n",
       "<style scoped>\n",
       "    .dataframe tbody tr th:only-of-type {\n",
       "        vertical-align: middle;\n",
       "    }\n",
       "\n",
       "    .dataframe tbody tr th {\n",
       "        vertical-align: top;\n",
       "    }\n",
       "\n",
       "    .dataframe thead th {\n",
       "        text-align: right;\n",
       "    }\n",
       "</style>\n",
       "<table border=\"1\" class=\"dataframe\">\n",
       "  <thead>\n",
       "    <tr style=\"text-align: right;\">\n",
       "      <th></th>\n",
       "      <th>Number</th>\n",
       "      <th>Percent of Total Data</th>\n",
       "    </tr>\n",
       "  </thead>\n",
       "  <tbody>\n",
       "    <tr>\n",
       "      <th>DNF</th>\n",
       "      <td>0</td>\n",
       "      <td>0.0</td>\n",
       "    </tr>\n",
       "    <tr>\n",
       "      <th>DNS</th>\n",
       "      <td>0</td>\n",
       "      <td>0.0</td>\n",
       "    </tr>\n",
       "    <tr>\n",
       "      <th>No Result</th>\n",
       "      <td>0</td>\n",
       "      <td>0.0</td>\n",
       "    </tr>\n",
       "    <tr>\n",
       "      <th>Total Missing</th>\n",
       "      <td>0</td>\n",
       "      <td>0.0</td>\n",
       "    </tr>\n",
       "  </tbody>\n",
       "</table>\n",
       "</div>"
      ],
      "text/plain": [
       "               Number  Percent of Total Data\n",
       "DNF                 0                    0.0\n",
       "DNS                 0                    0.0\n",
       "No Result           0                    0.0\n",
       "Total Missing       0                    0.0"
      ]
     },
     "metadata": {},
     "output_type": "display_data"
    }
   ],
   "source": [
    "# dropping rows with missing values (the values are all 0 or less)\n",
    "pivoted = pivoted[pivoted['time'] > 0]\n",
    "\n",
    "# checking to see the number changes\n",
    "check_missing(pivoted, \n",
    "              missing_values = {'DNF' : -1, 'DNS': -2, 'No Result': 0}, \n",
    "              cols_to_check = ['time'])"
   ]
  },
  {
   "cell_type": "markdown",
   "id": "d24aad12-f319-4a89-bd9a-6a7e605ddda2",
   "metadata": {},
   "source": [
    "### Plotting Part 2\n",
    "Now that we have dealt with the missing values lets plot again to see if there are any patterns. This is mostly just a rehash of previous creating points code (changed `results_frame` to `pivoted` and `averageTime` to `time`)"
   ]
  },
  {
   "cell_type": "code",
   "execution_count": 22,
   "id": "cde2f323-92a8-46eb-bbdd-0e33a4774fb4",
   "metadata": {},
   "outputs": [
    {
     "data": {
      "text/html": [
       "<div>\n",
       "<style scoped>\n",
       "    .dataframe tbody tr th:only-of-type {\n",
       "        vertical-align: middle;\n",
       "    }\n",
       "\n",
       "    .dataframe tbody tr th {\n",
       "        vertical-align: top;\n",
       "    }\n",
       "\n",
       "    .dataframe thead th {\n",
       "        text-align: right;\n",
       "    }\n",
       "</style>\n",
       "<table border=\"1\" class=\"dataframe\">\n",
       "  <thead>\n",
       "    <tr style=\"text-align: right;\">\n",
       "      <th></th>\n",
       "      <th>date</th>\n",
       "      <th>year</th>\n",
       "      <th>time</th>\n",
       "    </tr>\n",
       "  </thead>\n",
       "  <tbody>\n",
       "    <tr>\n",
       "      <th>0</th>\n",
       "      <td>2007-09-01</td>\n",
       "      <td>2007</td>\n",
       "      <td>1968</td>\n",
       "    </tr>\n",
       "    <tr>\n",
       "      <th>1</th>\n",
       "      <td>2007-09-01</td>\n",
       "      <td>2007</td>\n",
       "      <td>2203</td>\n",
       "    </tr>\n",
       "    <tr>\n",
       "      <th>2</th>\n",
       "      <td>2007-09-01</td>\n",
       "      <td>2007</td>\n",
       "      <td>2138</td>\n",
       "    </tr>\n",
       "    <tr>\n",
       "      <th>3</th>\n",
       "      <td>2007-09-01</td>\n",
       "      <td>2007</td>\n",
       "      <td>2139</td>\n",
       "    </tr>\n",
       "    <tr>\n",
       "      <th>4</th>\n",
       "      <td>2007-09-01</td>\n",
       "      <td>2007</td>\n",
       "      <td>2108</td>\n",
       "    </tr>\n",
       "  </tbody>\n",
       "</table>\n",
       "</div>"
      ],
      "text/plain": [
       "        date  year  time\n",
       "0 2007-09-01  2007  1968\n",
       "1 2007-09-01  2007  2203\n",
       "2 2007-09-01  2007  2138\n",
       "3 2007-09-01  2007  2139\n",
       "4 2007-09-01  2007  2108"
      ]
     },
     "metadata": {},
     "output_type": "display_data"
    }
   ],
   "source": [
    "points = pd.DataFrame()\n",
    "points['date'] = pivoted['competitionId'].map(competitions_frame.set_index('id')['startDate'])\n",
    "points['year'] = pivoted['competitionId'].map(competitions_frame.set_index('id')['year'])\n",
    "points['time'] = pivoted['time']\n",
    "display(points.head())"
   ]
  },
  {
   "cell_type": "code",
   "execution_count": 26,
   "id": "5254d13c-4d0a-4318-ad2d-320d1eb6e5fc",
   "metadata": {},
   "outputs": [
    {
     "data": {
      "text/plain": [
       "[Text(0, 0.5, 'Amount of Time to Solve (centiseconds)'), Text(0.5, 0, 'Year')]"
      ]
     },
     "execution_count": 26,
     "metadata": {},
     "output_type": "execute_result"
    },
    {
     "data": {
      "image/png": "[encoded data removed]",
      "text/plain": [
       "<Figure size 432x288 with 1 Axes>"
      ]
     },
     "metadata": {
      "needs_background": "light"
     },
     "output_type": "display_data"
    }
   ],
   "source": [
    "plot = points.plot.scatter('year', 'time', alpha = 0.2)\n",
    "plt.title(\"Rubik's Cube Solve Speed Over Time\")\n",
    "plot.set(ylabel=\"Amount of Time to Solve (centiseconds)\", xlabel=\"Year\")"
   ]
  },
  {
   "cell_type": "markdown",
   "id": "8c9c7736-5da9-496d-a93b-d029d0466e21",
   "metadata": {},
   "source": [
    "#### Better Plots\n",
    "The scatter plot was not really informative. Instead lets create a *violin plot* this is a plot that will allow us to look at the distribution of the data across every year."
   ]
  },
  {
   "cell_type": "code",
   "execution_count": 24,
   "id": "08c0900d-ab38-4fc4-8f9e-faf878334db7",
   "metadata": {},
   "outputs": [],
   "source": [
    "# a function that will make the violin plot\n",
    "# the input x need to be an integer (year)\n",
    "# the input y is a list of all the values for that year\n",
    "def vio_plot(x, y, xlabel, ylabel, title):\n",
    "    fig, ax = plt.subplots()\n",
    "    ax.violinplot(y, x, widths = 4, showmeans = True)\n",
    "    ax.set_xlabel(xlabel)\n",
    "    ax.set_ylabel(ylabel)\n",
    "    ax.set_title(title)"
   ]
  },
  {
   "cell_type": "markdown",
   "id": "b25d9209-f83c-42df-9f25-09a24826e612",
   "metadata": {},
   "source": [
    "> **Warning**\n",
    "> <br>\n",
    "> The following code takes a moment to run."
   ]
  },
  {
   "cell_type": "code",
   "execution_count": 25,
   "id": "368d83fd-c750-4f57-8384-b15ec111dbdf",
   "metadata": {},
   "outputs": [
    {
     "data": {
      "image/png": "[encoded data removed]",
      "text/plain": [
       "<Figure size 432x288 with 1 Axes>"
      ]
     },
     "metadata": {
      "needs_background": "light"
     },
     "output_type": "display_data"
    }
   ],
   "source": [
    "# setting up the data so we can use the violin plot\n",
    "group_by_year = points.groupby('year').agg({'time':list})\n",
    "times = group_by_year['time'].tolist()\n",
    "years = points['year'].unique().tolist()\n",
    "\n",
    "#plotting\n",
    "vio_plot(years, times,\n",
    "         \"Year\", \"Time to Solve (centiseconds)\", \"Rubik's Cube Solve Speed Over Time\")\n"
   ]
  },
  {
   "cell_type": "markdown",
   "id": "3b354300-7ca0-4e5c-83ac-107ffe060656",
   "metadata": {},
   "source": [
    "From the plots we can see that the the distribution is highly clumped around low times. there are a number of outliers for extremely high times but the averages remain really low."
   ]
  },
  {
   "cell_type": "markdown",
   "id": "20759b00-6446-4e09-bbf4-f47c63bd38bc",
   "metadata": {},
   "source": [
    "## Making a Linear Model?"
   ]
  },
  {
   "cell_type": "code",
   "execution_count": null,
   "id": "a2a82f77-2539-4b4a-b19b-aaf0c8c5590f",
   "metadata": {},
   "outputs": [],
   "source": []
  },
  {
   "cell_type": "markdown",
   "id": "8054109f-8ac0-4768-9085-aa4074f7cfd9",
   "metadata": {},
   "source": [
    "## Determining a Z score for each competition?"
   ]
  },
  {
   "cell_type": "code",
   "execution_count": null,
   "id": "96790e72-caee-48b4-8a7f-2c2b57e82835",
   "metadata": {},
   "outputs": [],
   "source": []
  },
  {
   "cell_type": "markdown",
   "id": "dcdd3938-b60f-4088-986c-177829a9ed3a",
   "metadata": {},
   "source": [
    "### Sorting competitions by z score"
   ]
  },
  {
   "cell_type": "code",
   "execution_count": null,
   "id": "b11f66be-6042-45db-9f36-5af83bda7953",
   "metadata": {},
   "outputs": [],
   "source": []
  },
  {
   "cell_type": "markdown",
   "id": "df7940f3-3659-439d-8514-37f84fadc14d",
   "metadata": {},
   "source": [
    "## Discussion"
   ]
  },
  {
   "cell_type": "markdown",
   "id": "2ba5efa6-937a-4d10-bd21-7655f95e5422",
   "metadata": {
    "tags": []
   },
   "source": [
    "## What did we learn?\n",
    "#### Data Science is 90% getting and cleaning data\n",
    "We spent a lot of time just understanding the database, getting our tables, removing unnecessary data, pivoting our tables, etc. A majority of Data Science is just making the large amounts of data easier to work with. Once we do that applying the tools is a piece of cake.\n",
    "#### How to deal with missing values\n",
    "When we originally got our data there was a lot of missing data. A lot of the data was stuff we should not and could not ignore. We figured out how to substitute those missing values and improve our analysis. \n",
    "\n"
   ]
  },
  {
   "cell_type": "markdown",
   "id": "0bc63134-fb58-4400-94ae-d29b3597c7fb",
   "metadata": {
    "jp-MarkdownHeadingCollapsed": true,
    "tags": []
   },
   "source": [
    "## Post Discussion Thoughts\n",
    "The original goal of this tutorial was to look for relationships between a given scramble and a time. This was to eventually determine if some scrambles are more difficult than others. The WCA records the scrambles used in competiton so this seemed like a reasonable task to accomplish. \n",
    "<br><br>\n",
    "However it became impossible. Competitons reported scrambles by a round and group identification but results are reported by round only. There became no way to map a particular time to a scramble. \n",
    "<br><br>\n",
    "It is unfortunate that there is such a simple yet vital piece of data missing. I encourage the WCA and all competitions to start reporting which individuals belong to which groups so that future analysis of this sort is possible."
   ]
  },
  {
   "cell_type": "code",
   "execution_count": null,
   "id": "5871c934-9b88-4173-ae84-85771199f04c",
   "metadata": {},
   "outputs": [],
   "source": []
  }
 ],
 "metadata": {
  "kernelspec": {
   "display_name": "Python 3 (ipykernel)",
   "language": "python",
   "name": "python3"
  },
  "language_info": {
   "codemirror_mode": {
    "name": "ipython",
    "version": 3
   },
   "file_extension": ".py",
   "mimetype": "text/x-python",
   "name": "python",
   "nbconvert_exporter": "python",
   "pygments_lexer": "ipython3",
   "version": "3.9.7"
  }
 },
 "nbformat": 4,
 "nbformat_minor": 5
}
