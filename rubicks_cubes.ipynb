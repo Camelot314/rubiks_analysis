{
 "cells": [
  {
   "cell_type": "markdown",
   "id": "71fd7995-6132-4d0e-8edd-d02b3e03653b",
   "metadata": {},
   "source": [
    "# Rubik's Cubes: An Analysis of Scrambles\n",
    "Jaraad Kamal"
   ]
  },
  {
   "cell_type": "markdown",
   "id": "6e0b6ba6-8f85-4950-8fc9-eddf6e7fe8c3",
   "metadata": {
    "tags": []
   },
   "source": [
    "## Background and Definitions\n",
    "The Rubik's Cube was a puzzle game created by Ernő Rubik in 1974. Throughout the years it has gained immense popularity as more and more people learn to solve it and compete. \n",
    "I have been solving Rubik's Cubes for over half my life. I am by no means a competition level solver but I have always been interested in the highest levels of speed cubing.\n",
    "> **Speed Cubing**\n",
    "> <br>\n",
    "> Competitively solving Rubik's Cubes as fast as possible.\n",
    "\n",
    "In this tutorial we will discuss the scrambles of a **3x3 Rubik's Cube**. \n",
    "> **Scramble**\n",
    "> <br>\n",
    "> A random set of moves used to get a Rubik's Cube or puzzle into a random unsolved state.\n",
    "> <br>\n",
    "> The moves needed to \"mix up\" a Rubk's Cube.\n",
    "### Goal\n",
    "Competitions have been going on since the 1980s. For this tutorial we will be finding out if there were specific scrambles (or initial shuffles of the cube) that are harder to solve than others. Futher we can develop a model to determine if a particular scramble is more difficult than others.\n"
   ]
  },
  {
   "cell_type": "markdown",
   "id": "da771919-03fd-43ed-ad9e-53e0b83c7173",
   "metadata": {
    "tags": []
   },
   "source": [
    "### Notation\n",
    "Before getting into the data and the code we must first develop an understanding for how notation works in Rubik's Cubes.\n",
    "<br>\n",
    "The notation is used as a way to describe which moves are being performed.\n",
    "<br><br>\n",
    "There are 4 types of moves for a 3x3 Rubik's Cube:\n",
    "- Whole cube rotations\n",
    "- Face Turns\n",
    "- Wide Moves\n",
    "- Slice Moves\n",
    "\n",
    "> **Visual Depictions**\n",
    "> <br>https://jperm.net/3x3/moves\n",
    "\n",
    "For the purposes of this tutorial only **Face Turns** will be examined as they are the only types of moves used when scrabling.\n",
    "<br>\n",
    "*(note: every type of move can be accomplished with only face turns)*"
   ]
  },
  {
   "cell_type": "markdown",
   "id": "31f4219f-e2d3-4b56-a72e-83d0b7515d4b",
   "metadata": {
    "tags": []
   },
   "source": [
    "#### Face Turns\n",
    "Each Face Turn corresponds to a particular face of the cube.\n",
    "The basic moves are: "
   ]
  },
  {
   "cell_type": "markdown",
   "id": "b6010b34-3411-442d-8e25-53ee1d63962c",
   "metadata": {},
   "source": [
    "|Name   | Notation| Variant  |\n",
    "|----   | --------| ---------|\n",
    "| Up    | U       | U2 or U' |\n",
    "| Down  | D       | D2 or D' |\n",
    "| Left  | L       | L2 or L' |\n",
    "| Right | R       | R2 or R' |\n",
    "| Front | F       | F2 or F' |\n",
    "| Back  | B       | B2 or B' |\n"
   ]
  },
  {
   "cell_type": "markdown",
   "id": "53915210-917d-41e8-a9b5-f79751816e1f",
   "metadata": {},
   "source": [
    "Each moves corresponds to one of the 6 faces of the cube.\n",
    "<br>\n",
    "They indicate moving a face of the cube clockwise 90 degrees (when viewing the face head on). The addition of `2` means rorate the face 180 degrees (90 degrees twice) and an apostrophe `'` (pronounced *prime*) dictates a counterclockwise rotation.  \n",
    "> **Example**\n",
    "><br>\n",
    "> `U ` means move the top most face 90 degrees **clockwise**\n",
    "><br>\n",
    "> `U2` means move the top most face 180 degrees\n",
    "><br>\n",
    "> `U'` means move the top most face 90 degrees **counterclockwise**\n",
    "\n",
    "A typical scramble thus looks like:\n",
    "<br>\n",
    "`D U2 F2 D R2 D2 L2 U' R2 B' R2 D F U2 F L2 R' D L`\n",
    "\n",
    "Now that we understand how notations and scrambles work we can get into the actual data wrangling."
   ]
  },
  {
   "cell_type": "markdown",
   "id": "e83f3531-c248-4fa7-981e-0bb2d4c4d898",
   "metadata": {
    "tags": []
   },
   "source": [
    "## Getting the Data\n",
    "For this project I will be using the database created by the **World Cube Association** (WCA), they host the largest and most updated database for competitions throughout the world. I will be using the data up to April 4th, 2022.\n",
    "> **Links**\n",
    "><br>\n",
    "> WCA Homepage: https://www.worldcubeassociation.org/\n",
    "><br>\n",
    "> WCA Database Download: https://www.worldcubeassociation.org/results/misc/export.html\n",
    "\n",
    "For this tutorial download the sql file and extract the contents into a subfolder of your choice."
   ]
  },
  {
   "cell_type": "markdown",
   "id": "6743f414-2196-495c-b671-705ed324465a",
   "metadata": {},
   "source": [
    "## Getting to Know the Data\n",
    "The file created by the WCA is *big*. Before blindly coding it is important that you get comfortable with the way it is formatted. The database comes with a **README** file that gives an overview. \n",
    "<br><br>\n",
    "Briefly, the file (or SQL Database) is a collection of tables each with their own information. According to the **README** the database itself consists of the following tables:\n",
    ">| Table                                   | Contents                                           |\n",
    ">| --------------------------------------- | -------------------------------------------------- |\n",
    ">| Persons                                 | WCA competitors                                    |\n",
    ">| Competitions                            | WCA competitions                                   |\n",
    ">| Events                                  | WCA events (3x3x3 Cube, Megaminx, etc)             |\n",
    ">| Results                                 | WCA results per competition+event+round+person     |\n",
    ">| RanksSingle                             | Best single result per competitor+event and ranks  |\n",
    ">| RanksAverage                            | Best average result per competitor+event and ranks |\n",
    ">| RoundTypes                              | The round types (first, final, etc)                |\n",
    ">| Formats                                 | The round formats (best of 3, average of 5, etc)   |\n",
    ">| Countries                               | Countries                                          |\n",
    ">| Continents                              | Continents                                         |\n",
    ">| Scrambles                               | Scrambles                                          |\n",
    ">| championships                           | Championship competitions                          |\n",
    ">| eligible_country_iso2s_for_championship | See explanation below                              |\n",
    "\n",
    "For this tutorial we are examining if there are specific scrambles that are harder than others. To do this we will only look at the `Scrambles` and the `Results` tables."
   ]
  },
  {
   "cell_type": "markdown",
   "id": "0a18d7eb-4fa6-4b21-80a7-39884b65aa81",
   "metadata": {},
   "source": [
    "## The Code\n",
    "For this tutorial I will be working in **Python 3**.\n",
    "<br>\n",
    "First lets import some libraries that will be usefull later on."
   ]
  },
  {
   "cell_type": "code",
   "execution_count": 2,
   "id": "57592973-b02e-4b4b-946f-530851ae34fd",
   "metadata": {},
   "outputs": [],
   "source": [
    "import pandas as pd\n",
    "import matplotlib.pyplot as plt\n",
    "import mysql"
   ]
  },
  {
   "cell_type": "markdown",
   "id": "3b555343-49a5-49dd-baca-af84228ff612",
   "metadata": {},
   "source": [
    "### Loading the Database\n",
    "The following code opens up the file from WCA and allows us to perform operations on the data."
   ]
  },
  {
   "cell_type": "code",
   "execution_count": 7,
   "id": "e7df4a3e-b26e-4198-9d47-fbc269317881",
   "metadata": {},
   "outputs": [],
   "source": [
    "sqlite_file = 'extracted_sql/WCA_export.sql' # This can be replaced with the path to the downloaded file\n",
    "conn = sqlite3.connect(sqlite_file)\n",
    "cursor = conn.cursor()"
   ]
  },
  {
   "cell_type": "markdown",
   "id": "1ccac13c-4f1d-4204-bbd0-7b68e40f33ec",
   "metadata": {},
   "source": [
    "Now we can take a small look at the data. The following code will read the information from the `Scrambles` and `Results` tables."
   ]
  },
  {
   "cell_type": "code",
   "execution_count": 8,
   "id": "60e5756a-caab-4ca3-bfd8-3f01d400d50e",
   "metadata": {},
   "outputs": [
    {
     "ename": "DatabaseError",
     "evalue": "Execution failed on sql 'SHOW TABLES': near \"SHOW\": syntax error",
     "output_type": "error",
     "traceback": [
      "\u001b[0;31m---------------------------------------------------------------------------\u001b[0m",
      "\u001b[0;31mOperationalError\u001b[0m                          Traceback (most recent call last)",
      "File \u001b[0;32m/opt/conda/lib/python3.9/site-packages/pandas/io/sql.py:2017\u001b[0m, in \u001b[0;36mSQLiteDatabase.execute\u001b[0;34m(self, *args, **kwargs)\u001b[0m\n\u001b[1;32m   2016\u001b[0m \u001b[38;5;28;01mtry\u001b[39;00m:\n\u001b[0;32m-> 2017\u001b[0m     \u001b[43mcur\u001b[49m\u001b[38;5;241;43m.\u001b[39;49m\u001b[43mexecute\u001b[49m\u001b[43m(\u001b[49m\u001b[38;5;241;43m*\u001b[39;49m\u001b[43margs\u001b[49m\u001b[43m,\u001b[49m\u001b[43m \u001b[49m\u001b[38;5;241;43m*\u001b[39;49m\u001b[38;5;241;43m*\u001b[39;49m\u001b[43mkwargs\u001b[49m\u001b[43m)\u001b[49m\n\u001b[1;32m   2018\u001b[0m     \u001b[38;5;28;01mreturn\u001b[39;00m cur\n",
      "\u001b[0;31mOperationalError\u001b[0m: near \"SHOW\": syntax error",
      "\nThe above exception was the direct cause of the following exception:\n",
      "\u001b[0;31mDatabaseError\u001b[0m                             Traceback (most recent call last)",
      "Input \u001b[0;32mIn [8]\u001b[0m, in \u001b[0;36m<module>\u001b[0;34m\u001b[0m\n\u001b[1;32m      1\u001b[0m q \u001b[38;5;241m=\u001b[39m \u001b[38;5;124m\"\u001b[39m\u001b[38;5;124mSHOW TABLES\u001b[39m\u001b[38;5;124m\"\u001b[39m\n\u001b[0;32m----> 2\u001b[0m srambles_table \u001b[38;5;241m=\u001b[39m \u001b[43mpd\u001b[49m\u001b[38;5;241;43m.\u001b[39;49m\u001b[43mread_sql\u001b[49m\u001b[43m(\u001b[49m\u001b[43mq\u001b[49m\u001b[43m,\u001b[49m\u001b[43m \u001b[49m\u001b[43mconn\u001b[49m\u001b[43m)\u001b[49m\n\u001b[1;32m      3\u001b[0m display(srambles_table\u001b[38;5;241m.\u001b[39mhead(\u001b[38;5;241m10\u001b[39m))\n",
      "File \u001b[0;32m/opt/conda/lib/python3.9/site-packages/pandas/io/sql.py:566\u001b[0m, in \u001b[0;36mread_sql\u001b[0;34m(sql, con, index_col, coerce_float, params, parse_dates, columns, chunksize)\u001b[0m\n\u001b[1;32m    563\u001b[0m pandas_sql \u001b[38;5;241m=\u001b[39m pandasSQL_builder(con)\n\u001b[1;32m    565\u001b[0m \u001b[38;5;28;01mif\u001b[39;00m \u001b[38;5;28misinstance\u001b[39m(pandas_sql, SQLiteDatabase):\n\u001b[0;32m--> 566\u001b[0m     \u001b[38;5;28;01mreturn\u001b[39;00m \u001b[43mpandas_sql\u001b[49m\u001b[38;5;241;43m.\u001b[39;49m\u001b[43mread_query\u001b[49m\u001b[43m(\u001b[49m\n\u001b[1;32m    567\u001b[0m \u001b[43m        \u001b[49m\u001b[43msql\u001b[49m\u001b[43m,\u001b[49m\n\u001b[1;32m    568\u001b[0m \u001b[43m        \u001b[49m\u001b[43mindex_col\u001b[49m\u001b[38;5;241;43m=\u001b[39;49m\u001b[43mindex_col\u001b[49m\u001b[43m,\u001b[49m\n\u001b[1;32m    569\u001b[0m \u001b[43m        \u001b[49m\u001b[43mparams\u001b[49m\u001b[38;5;241;43m=\u001b[39;49m\u001b[43mparams\u001b[49m\u001b[43m,\u001b[49m\n\u001b[1;32m    570\u001b[0m \u001b[43m        \u001b[49m\u001b[43mcoerce_float\u001b[49m\u001b[38;5;241;43m=\u001b[39;49m\u001b[43mcoerce_float\u001b[49m\u001b[43m,\u001b[49m\n\u001b[1;32m    571\u001b[0m \u001b[43m        \u001b[49m\u001b[43mparse_dates\u001b[49m\u001b[38;5;241;43m=\u001b[39;49m\u001b[43mparse_dates\u001b[49m\u001b[43m,\u001b[49m\n\u001b[1;32m    572\u001b[0m \u001b[43m        \u001b[49m\u001b[43mchunksize\u001b[49m\u001b[38;5;241;43m=\u001b[39;49m\u001b[43mchunksize\u001b[49m\u001b[43m,\u001b[49m\n\u001b[1;32m    573\u001b[0m \u001b[43m    \u001b[49m\u001b[43m)\u001b[49m\n\u001b[1;32m    575\u001b[0m \u001b[38;5;28;01mtry\u001b[39;00m:\n\u001b[1;32m    576\u001b[0m     _is_table_name \u001b[38;5;241m=\u001b[39m pandas_sql\u001b[38;5;241m.\u001b[39mhas_table(sql)\n",
      "File \u001b[0;32m/opt/conda/lib/python3.9/site-packages/pandas/io/sql.py:2077\u001b[0m, in \u001b[0;36mSQLiteDatabase.read_query\u001b[0;34m(self, sql, index_col, coerce_float, params, parse_dates, chunksize, dtype)\u001b[0m\n\u001b[1;32m   2065\u001b[0m \u001b[38;5;28;01mdef\u001b[39;00m \u001b[38;5;21mread_query\u001b[39m(\n\u001b[1;32m   2066\u001b[0m     \u001b[38;5;28mself\u001b[39m,\n\u001b[1;32m   2067\u001b[0m     sql,\n\u001b[0;32m   (...)\u001b[0m\n\u001b[1;32m   2073\u001b[0m     dtype: DtypeArg \u001b[38;5;241m|\u001b[39m \u001b[38;5;28;01mNone\u001b[39;00m \u001b[38;5;241m=\u001b[39m \u001b[38;5;28;01mNone\u001b[39;00m,\n\u001b[1;32m   2074\u001b[0m ):\n\u001b[1;32m   2076\u001b[0m     args \u001b[38;5;241m=\u001b[39m _convert_params(sql, params)\n\u001b[0;32m-> 2077\u001b[0m     cursor \u001b[38;5;241m=\u001b[39m \u001b[38;5;28;43mself\u001b[39;49m\u001b[38;5;241;43m.\u001b[39;49m\u001b[43mexecute\u001b[49m\u001b[43m(\u001b[49m\u001b[38;5;241;43m*\u001b[39;49m\u001b[43margs\u001b[49m\u001b[43m)\u001b[49m\n\u001b[1;32m   2078\u001b[0m     columns \u001b[38;5;241m=\u001b[39m [col_desc[\u001b[38;5;241m0\u001b[39m] \u001b[38;5;28;01mfor\u001b[39;00m col_desc \u001b[38;5;129;01min\u001b[39;00m cursor\u001b[38;5;241m.\u001b[39mdescription]\n\u001b[1;32m   2080\u001b[0m     \u001b[38;5;28;01mif\u001b[39;00m chunksize \u001b[38;5;129;01mis\u001b[39;00m \u001b[38;5;129;01mnot\u001b[39;00m \u001b[38;5;28;01mNone\u001b[39;00m:\n",
      "File \u001b[0;32m/opt/conda/lib/python3.9/site-packages/pandas/io/sql.py:2029\u001b[0m, in \u001b[0;36mSQLiteDatabase.execute\u001b[0;34m(self, *args, **kwargs)\u001b[0m\n\u001b[1;32m   2026\u001b[0m     \u001b[38;5;28;01mraise\u001b[39;00m ex \u001b[38;5;28;01mfrom\u001b[39;00m \u001b[38;5;21;01minner_exc\u001b[39;00m\n\u001b[1;32m   2028\u001b[0m ex \u001b[38;5;241m=\u001b[39m DatabaseError(\u001b[38;5;124mf\u001b[39m\u001b[38;5;124m\"\u001b[39m\u001b[38;5;124mExecution failed on sql \u001b[39m\u001b[38;5;124m'\u001b[39m\u001b[38;5;132;01m{\u001b[39;00margs[\u001b[38;5;241m0\u001b[39m]\u001b[38;5;132;01m}\u001b[39;00m\u001b[38;5;124m'\u001b[39m\u001b[38;5;124m: \u001b[39m\u001b[38;5;132;01m{\u001b[39;00mexc\u001b[38;5;132;01m}\u001b[39;00m\u001b[38;5;124m\"\u001b[39m)\n\u001b[0;32m-> 2029\u001b[0m \u001b[38;5;28;01mraise\u001b[39;00m ex \u001b[38;5;28;01mfrom\u001b[39;00m \u001b[38;5;21;01mexc\u001b[39;00m\n",
      "\u001b[0;31mDatabaseError\u001b[0m: Execution failed on sql 'SHOW TABLES': near \"SHOW\": syntax error"
     ]
    }
   ],
   "source": [
    "q = \"SHOW TABLES\""
   ]
  },
  {
   "cell_type": "markdown",
   "id": "e670b52a-5c20-4ce1-97e3-4c0e3024e0b6",
   "metadata": {},
   "source": [
    "As good hygiene we will now close the database using the following code.\n",
    "> Closing the database allows any changes to commited to the file and finishes any important tasks."
   ]
  },
  {
   "cell_type": "code",
   "execution_count": 5,
   "id": "3db8fa1e-b982-4c05-8188-32b4475e2b47",
   "metadata": {},
   "outputs": [],
   "source": [
    "conn.close()"
   ]
  },
  {
   "cell_type": "code",
   "execution_count": null,
   "id": "c29ab02c-24a1-4bf6-af19-d040bb1ef1e0",
   "metadata": {},
   "outputs": [],
   "source": []
  }
 ],
 "metadata": {
  "kernelspec": {
   "display_name": "Python 3 (ipykernel)",
   "language": "python",
   "name": "python3"
  },
  "language_info": {
   "codemirror_mode": {
    "name": "ipython",
    "version": 3
   },
   "file_extension": ".py",
   "mimetype": "text/x-python",
   "name": "python",
   "nbconvert_exporter": "python",
   "pygments_lexer": "ipython3",
   "version": "3.9.7"
  }
 },
 "nbformat": 4,
 "nbformat_minor": 5
}
