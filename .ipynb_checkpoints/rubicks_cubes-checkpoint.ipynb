{
 "cells": [
  {
   "cell_type": "markdown",
   "id": "71fd7995-6132-4d0e-8edd-d02b3e03653b",
   "metadata": {},
   "source": [
    "# Rubik's Cubes: An Analysis of Scrambles\n",
    "Jaraad Kamal"
   ]
  },
  {
   "cell_type": "markdown",
   "id": "6e0b6ba6-8f85-4950-8fc9-eddf6e7fe8c3",
   "metadata": {
    "tags": []
   },
   "source": [
    "## Background and Definitions\n",
    "The Rubik's Cube was a puzzle game created by Ernő Rubik in 1974. Throughout the years it has gained immense popularity as more and more people learn to solve it and compete. \n",
    "I have been solving Rubik's Cubes for over half my life. I am by no means a competition level solver but I have always been interested in the highest levels of speed cubing.\n",
    "> **Speed Cubing**\n",
    "> <br>\n",
    "> Competitively solving Rubik's Cubes as fast as possible.\n",
    "\n",
    "In this tutorial we will discuss the scrambles of a **3x3 Rubik's Cube**. \n",
    "> **Scramble**\n",
    "> <br>\n",
    "> A random set of moves used to get a Rubik's Cube or puzzle into a random unsolved state.\n",
    "> <br>\n",
    "> The moves needed to \"mix up\" a Rubk's Cube.\n",
    "### Goal\n",
    "Competitions have been going on since the 1980s. For this tutorial we will be finding out if there were specific scrambles (or initial shuffles of the cube) that are harder to solve than others. Futher we can develop a model to determine if a particular scramble is more difficult than others.\n"
   ]
  },
  {
   "cell_type": "markdown",
   "id": "da771919-03fd-43ed-ad9e-53e0b83c7173",
   "metadata": {
    "tags": []
   },
   "source": [
    "### Notation\n",
    "Before getting into the data and the code we must first develop an understanding for how notation works in Rubik's Cubes.\n",
    "<br>\n",
    "The notation is used as a way to describe which moves are being performed.\n",
    "<br><br>\n",
    "There are 4 types of moves for a 3x3 Rubik's Cube:\n",
    "- Whole cube rotations\n",
    "- Face Turns\n",
    "- Wide Moves\n",
    "- Slice Moves\n",
    "\n",
    "> **Visual Depictions**\n",
    "> <br>https://jperm.net/3x3/moves\n",
    "\n",
    "For the purposes of this tutorial only **Face Turns** will be examined as they are the only types of moves used when scrabling.\n",
    "<br>\n",
    "*(note: every type of move can be accomplished with only face turns)*"
   ]
  },
  {
   "cell_type": "markdown",
   "id": "31f4219f-e2d3-4b56-a72e-83d0b7515d4b",
   "metadata": {
    "tags": []
   },
   "source": [
    "#### Face Turns\n",
    "Each Face Turn corresponds to a particular face of the cube.\n",
    "The basic moves are: "
   ]
  },
  {
   "cell_type": "markdown",
   "id": "b6010b34-3411-442d-8e25-53ee1d63962c",
   "metadata": {},
   "source": [
    "|Name   | Notation| Variant  |\n",
    "|----   | --------| ---------|\n",
    "| Up    | U       | U2 or U' |\n",
    "| Down  | D       | D2 or D' |\n",
    "| Left  | L       | L2 or L' |\n",
    "| Right | R       | R2 or R' |\n",
    "| Front | F       | F2 or F' |\n",
    "| Back  | B       | B2 or B' |\n"
   ]
  },
  {
   "cell_type": "markdown",
   "id": "53915210-917d-41e8-a9b5-f79751816e1f",
   "metadata": {},
   "source": [
    "Each moves corresponds to one of the 6 faces of the cube.\n",
    "<br>\n",
    "They indicate moving a face of the cube clockwise 90 degrees (when viewing the face head on). The addition of `2` means rorate the face 180 degrees (90 degrees twice) and an apostrophe `'` dictates a counterclockwise rotation \n",
    "> **Example**\n",
    "><br>\n",
    "> `U ` means move the top most face 90 degrees **clockwise**\n",
    "><br>\n",
    "> `U2` means move the top most face 180 degrees\n",
    "><br>\n",
    "> `U'` means move the top most face 90 degrees **counterclockwise**\n",
    "\n",
    "A typical scramble thus looks like:\n",
    "<br>\n",
    "`D U2 F2 D R2 D2 L2 U' R2 B' R2 D F U2 F L2 R' D L`\n",
    "\n",
    "Now that we understand how notations and scrambles work we can get into the actual data wrangling."
   ]
  },
  {
   "cell_type": "markdown",
   "id": "e83f3531-c248-4fa7-981e-0bb2d4c4d898",
   "metadata": {
    "tags": []
   },
   "source": [
    "## Getting the Data\n",
    "For this project I will be using the database created by the **World Cube Association** (WCA), they host the largest and most updated database for competitions throughout the world. I will be using the data up to April 4th, 2022.\n",
    "> **Links**\n",
    "><br>\n",
    "> WCA Homepage: https://www.worldcubeassociation.org/\n",
    "><br>\n",
    "> WCA Database Download: https://www.worldcubeassociation.org/results/misc/export.html\n",
    "\n",
    "For this tutorial download the sql file and extract the contents into a subfolder of your choice."
   ]
  },
  {
   "cell_type": "code",
   "execution_count": null,
   "id": "57592973-b02e-4b4b-946f-530851ae34fd",
   "metadata": {},
   "outputs": [],
   "source": []
  }
 ],
 "metadata": {
  "kernelspec": {
   "display_name": "Python 3 (ipykernel)",
   "language": "python",
   "name": "python3"
  },
  "language_info": {
   "codemirror_mode": {
    "name": "ipython",
    "version": 3
   },
   "file_extension": ".py",
   "mimetype": "text/x-python",
   "name": "python",
   "nbconvert_exporter": "python",
   "pygments_lexer": "ipython3",
   "version": "3.9.7"
  }
 },
 "nbformat": 4,
 "nbformat_minor": 5
}
